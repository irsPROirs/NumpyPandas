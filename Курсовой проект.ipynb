{
 "cells": [
  {
   "cell_type": "markdown",
   "metadata": {},
   "source": [
    "**Описание датасета**\n",
    "\n",
    "* **Home Ownership** - домовладение\n",
    "* **Annual Income** - годовой доход\n",
    "* **Years in current job** - количество лет на текущем месте работы\n",
    "* **Tax Liens** - налоговые обременения\n",
    "* **Number of Open Accounts** - количество открытых счетов\n",
    "* **Years of Credit History** - количество лет кредитной истории\n",
    "* **Maximum Open Credit** - наибольший открытый кредит\n",
    "* **Number of Credit Problems** - количество проблем с кредитом\n",
    "* **Months since last delinquent** - количество месяцев с последней просрочки платежа\n",
    "* **Bankruptcies** - банкротства\n",
    "* **Purpose** - цель кредита\n",
    "* **Term** - срок кредита\n",
    "* **Current Loan Amount** - текущая сумма кредита\n",
    "* **Current Credit Balance** - текущий кредитный баланс\n",
    "* **Monthly Debt** - ежемесячный долг\n",
    "* **Credit Default** - факт невыполнения кредитных обязательств (0 - погашен вовремя, 1 - просрочка)"
   ]
  },
  {
   "cell_type": "code",
   "execution_count": 1,
   "metadata": {},
   "outputs": [],
   "source": [
    "import pandas as pd\n",
    "import numpy as np\n",
    "import seaborn as sns\n",
    "from matplotlib import pyplot as plt\n",
    "%matplotlib inline\n",
    "from sklearn.impute import KNNImputer"
   ]
  },
  {
   "cell_type": "markdown",
   "metadata": {},
   "source": [
    "**Пути к директориям и файлам**"
   ]
  },
  {
   "cell_type": "code",
   "execution_count": 2,
   "metadata": {},
   "outputs": [],
   "source": [
    "TRAIN_DATASET_PATH = 'course_project_train.csv'\n",
    "TEST_DATASET_PATH = 'course_project_test.csv'"
   ]
  },
  {
   "cell_type": "code",
   "execution_count": 3,
   "metadata": {},
   "outputs": [
    {
     "data": {
      "text/html": [
       "<div>\n",
       "<style scoped>\n",
       "    .dataframe tbody tr th:only-of-type {\n",
       "        vertical-align: middle;\n",
       "    }\n",
       "\n",
       "    .dataframe tbody tr th {\n",
       "        vertical-align: top;\n",
       "    }\n",
       "\n",
       "    .dataframe thead th {\n",
       "        text-align: right;\n",
       "    }\n",
       "</style>\n",
       "<table border=\"1\" class=\"dataframe\">\n",
       "  <thead>\n",
       "    <tr style=\"text-align: right;\">\n",
       "      <th></th>\n",
       "      <th>Home Ownership</th>\n",
       "      <th>Annual Income</th>\n",
       "      <th>Years in current job</th>\n",
       "      <th>Tax Liens</th>\n",
       "      <th>Number of Open Accounts</th>\n",
       "      <th>Years of Credit History</th>\n",
       "      <th>Maximum Open Credit</th>\n",
       "      <th>Number of Credit Problems</th>\n",
       "      <th>Months since last delinquent</th>\n",
       "      <th>Bankruptcies</th>\n",
       "      <th>Purpose</th>\n",
       "      <th>Term</th>\n",
       "      <th>Current Loan Amount</th>\n",
       "      <th>Current Credit Balance</th>\n",
       "      <th>Monthly Debt</th>\n",
       "      <th>Credit Score</th>\n",
       "    </tr>\n",
       "  </thead>\n",
       "  <tbody>\n",
       "    <tr>\n",
       "      <th>0</th>\n",
       "      <td>Rent</td>\n",
       "      <td>NaN</td>\n",
       "      <td>4 years</td>\n",
       "      <td>0.0</td>\n",
       "      <td>9.0</td>\n",
       "      <td>12.5</td>\n",
       "      <td>220968.0</td>\n",
       "      <td>0.0</td>\n",
       "      <td>70.0</td>\n",
       "      <td>0.0</td>\n",
       "      <td>debt consolidation</td>\n",
       "      <td>Short Term</td>\n",
       "      <td>162470.0</td>\n",
       "      <td>105906.0</td>\n",
       "      <td>6813.0</td>\n",
       "      <td>NaN</td>\n",
       "    </tr>\n",
       "    <tr>\n",
       "      <th>1</th>\n",
       "      <td>Rent</td>\n",
       "      <td>231838.0</td>\n",
       "      <td>1 year</td>\n",
       "      <td>0.0</td>\n",
       "      <td>6.0</td>\n",
       "      <td>32.7</td>\n",
       "      <td>55946.0</td>\n",
       "      <td>0.0</td>\n",
       "      <td>8.0</td>\n",
       "      <td>0.0</td>\n",
       "      <td>educational expenses</td>\n",
       "      <td>Short Term</td>\n",
       "      <td>78298.0</td>\n",
       "      <td>46037.0</td>\n",
       "      <td>2318.0</td>\n",
       "      <td>699.0</td>\n",
       "    </tr>\n",
       "    <tr>\n",
       "      <th>2</th>\n",
       "      <td>Home Mortgage</td>\n",
       "      <td>1152540.0</td>\n",
       "      <td>3 years</td>\n",
       "      <td>0.0</td>\n",
       "      <td>10.0</td>\n",
       "      <td>13.7</td>\n",
       "      <td>204600.0</td>\n",
       "      <td>0.0</td>\n",
       "      <td>NaN</td>\n",
       "      <td>0.0</td>\n",
       "      <td>debt consolidation</td>\n",
       "      <td>Short Term</td>\n",
       "      <td>200178.0</td>\n",
       "      <td>146490.0</td>\n",
       "      <td>18729.0</td>\n",
       "      <td>7260.0</td>\n",
       "    </tr>\n",
       "    <tr>\n",
       "      <th>3</th>\n",
       "      <td>Home Mortgage</td>\n",
       "      <td>1220313.0</td>\n",
       "      <td>10+ years</td>\n",
       "      <td>0.0</td>\n",
       "      <td>16.0</td>\n",
       "      <td>17.0</td>\n",
       "      <td>456302.0</td>\n",
       "      <td>0.0</td>\n",
       "      <td>70.0</td>\n",
       "      <td>0.0</td>\n",
       "      <td>debt consolidation</td>\n",
       "      <td>Short Term</td>\n",
       "      <td>217382.0</td>\n",
       "      <td>213199.0</td>\n",
       "      <td>27559.0</td>\n",
       "      <td>739.0</td>\n",
       "    </tr>\n",
       "    <tr>\n",
       "      <th>4</th>\n",
       "      <td>Home Mortgage</td>\n",
       "      <td>2340952.0</td>\n",
       "      <td>6 years</td>\n",
       "      <td>0.0</td>\n",
       "      <td>11.0</td>\n",
       "      <td>23.6</td>\n",
       "      <td>1207272.0</td>\n",
       "      <td>0.0</td>\n",
       "      <td>NaN</td>\n",
       "      <td>0.0</td>\n",
       "      <td>debt consolidation</td>\n",
       "      <td>Long Term</td>\n",
       "      <td>777634.0</td>\n",
       "      <td>425391.0</td>\n",
       "      <td>42605.0</td>\n",
       "      <td>706.0</td>\n",
       "    </tr>\n",
       "  </tbody>\n",
       "</table>\n",
       "</div>"
      ],
      "text/plain": [
       "  Home Ownership  Annual Income Years in current job  Tax Liens  \\\n",
       "0           Rent            NaN              4 years        0.0   \n",
       "1           Rent       231838.0               1 year        0.0   \n",
       "2  Home Mortgage      1152540.0              3 years        0.0   \n",
       "3  Home Mortgage      1220313.0            10+ years        0.0   \n",
       "4  Home Mortgage      2340952.0              6 years        0.0   \n",
       "\n",
       "   Number of Open Accounts  Years of Credit History  Maximum Open Credit  \\\n",
       "0                      9.0                     12.5             220968.0   \n",
       "1                      6.0                     32.7              55946.0   \n",
       "2                     10.0                     13.7             204600.0   \n",
       "3                     16.0                     17.0             456302.0   \n",
       "4                     11.0                     23.6            1207272.0   \n",
       "\n",
       "   Number of Credit Problems  Months since last delinquent  Bankruptcies  \\\n",
       "0                        0.0                          70.0           0.0   \n",
       "1                        0.0                           8.0           0.0   \n",
       "2                        0.0                           NaN           0.0   \n",
       "3                        0.0                          70.0           0.0   \n",
       "4                        0.0                           NaN           0.0   \n",
       "\n",
       "                Purpose        Term  Current Loan Amount  \\\n",
       "0    debt consolidation  Short Term             162470.0   \n",
       "1  educational expenses  Short Term              78298.0   \n",
       "2    debt consolidation  Short Term             200178.0   \n",
       "3    debt consolidation  Short Term             217382.0   \n",
       "4    debt consolidation   Long Term             777634.0   \n",
       "\n",
       "   Current Credit Balance  Monthly Debt  Credit Score  \n",
       "0                105906.0        6813.0           NaN  \n",
       "1                 46037.0        2318.0         699.0  \n",
       "2                146490.0       18729.0        7260.0  \n",
       "3                213199.0       27559.0         739.0  \n",
       "4                425391.0       42605.0         706.0  "
      ]
     },
     "execution_count": 3,
     "metadata": {},
     "output_type": "execute_result"
    }
   ],
   "source": [
    "df_test = pd.read_csv(TEST_DATASET_PATH)\n",
    "df_test.head()"
   ]
  },
  {
   "cell_type": "code",
   "execution_count": 4,
   "metadata": {},
   "outputs": [
    {
     "data": {
      "text/html": [
       "<div>\n",
       "<style scoped>\n",
       "    .dataframe tbody tr th:only-of-type {\n",
       "        vertical-align: middle;\n",
       "    }\n",
       "\n",
       "    .dataframe tbody tr th {\n",
       "        vertical-align: top;\n",
       "    }\n",
       "\n",
       "    .dataframe thead th {\n",
       "        text-align: right;\n",
       "    }\n",
       "</style>\n",
       "<table border=\"1\" class=\"dataframe\">\n",
       "  <thead>\n",
       "    <tr style=\"text-align: right;\">\n",
       "      <th></th>\n",
       "      <th>Home Ownership</th>\n",
       "      <th>Annual Income</th>\n",
       "      <th>Years in current job</th>\n",
       "      <th>Tax Liens</th>\n",
       "      <th>Number of Open Accounts</th>\n",
       "      <th>Years of Credit History</th>\n",
       "      <th>Maximum Open Credit</th>\n",
       "      <th>Number of Credit Problems</th>\n",
       "      <th>Months since last delinquent</th>\n",
       "      <th>Bankruptcies</th>\n",
       "      <th>Purpose</th>\n",
       "      <th>Term</th>\n",
       "      <th>Current Loan Amount</th>\n",
       "      <th>Current Credit Balance</th>\n",
       "      <th>Monthly Debt</th>\n",
       "      <th>Credit Score</th>\n",
       "      <th>Credit Default</th>\n",
       "    </tr>\n",
       "  </thead>\n",
       "  <tbody>\n",
       "    <tr>\n",
       "      <th>0</th>\n",
       "      <td>Own Home</td>\n",
       "      <td>482087.0</td>\n",
       "      <td>NaN</td>\n",
       "      <td>0.0</td>\n",
       "      <td>11.0</td>\n",
       "      <td>26.3</td>\n",
       "      <td>685960.0</td>\n",
       "      <td>1.0</td>\n",
       "      <td>NaN</td>\n",
       "      <td>1.0</td>\n",
       "      <td>debt consolidation</td>\n",
       "      <td>Short Term</td>\n",
       "      <td>99999999.0</td>\n",
       "      <td>47386.0</td>\n",
       "      <td>7914.0</td>\n",
       "      <td>749.0</td>\n",
       "      <td>0</td>\n",
       "    </tr>\n",
       "    <tr>\n",
       "      <th>1</th>\n",
       "      <td>Own Home</td>\n",
       "      <td>1025487.0</td>\n",
       "      <td>10+ years</td>\n",
       "      <td>0.0</td>\n",
       "      <td>15.0</td>\n",
       "      <td>15.3</td>\n",
       "      <td>1181730.0</td>\n",
       "      <td>0.0</td>\n",
       "      <td>NaN</td>\n",
       "      <td>0.0</td>\n",
       "      <td>debt consolidation</td>\n",
       "      <td>Long Term</td>\n",
       "      <td>264968.0</td>\n",
       "      <td>394972.0</td>\n",
       "      <td>18373.0</td>\n",
       "      <td>737.0</td>\n",
       "      <td>1</td>\n",
       "    </tr>\n",
       "    <tr>\n",
       "      <th>2</th>\n",
       "      <td>Home Mortgage</td>\n",
       "      <td>751412.0</td>\n",
       "      <td>8 years</td>\n",
       "      <td>0.0</td>\n",
       "      <td>11.0</td>\n",
       "      <td>35.0</td>\n",
       "      <td>1182434.0</td>\n",
       "      <td>0.0</td>\n",
       "      <td>NaN</td>\n",
       "      <td>0.0</td>\n",
       "      <td>debt consolidation</td>\n",
       "      <td>Short Term</td>\n",
       "      <td>99999999.0</td>\n",
       "      <td>308389.0</td>\n",
       "      <td>13651.0</td>\n",
       "      <td>742.0</td>\n",
       "      <td>0</td>\n",
       "    </tr>\n",
       "    <tr>\n",
       "      <th>3</th>\n",
       "      <td>Own Home</td>\n",
       "      <td>805068.0</td>\n",
       "      <td>6 years</td>\n",
       "      <td>0.0</td>\n",
       "      <td>8.0</td>\n",
       "      <td>22.5</td>\n",
       "      <td>147400.0</td>\n",
       "      <td>1.0</td>\n",
       "      <td>NaN</td>\n",
       "      <td>1.0</td>\n",
       "      <td>debt consolidation</td>\n",
       "      <td>Short Term</td>\n",
       "      <td>121396.0</td>\n",
       "      <td>95855.0</td>\n",
       "      <td>11338.0</td>\n",
       "      <td>694.0</td>\n",
       "      <td>0</td>\n",
       "    </tr>\n",
       "    <tr>\n",
       "      <th>4</th>\n",
       "      <td>Rent</td>\n",
       "      <td>776264.0</td>\n",
       "      <td>8 years</td>\n",
       "      <td>0.0</td>\n",
       "      <td>13.0</td>\n",
       "      <td>13.6</td>\n",
       "      <td>385836.0</td>\n",
       "      <td>1.0</td>\n",
       "      <td>NaN</td>\n",
       "      <td>0.0</td>\n",
       "      <td>debt consolidation</td>\n",
       "      <td>Short Term</td>\n",
       "      <td>125840.0</td>\n",
       "      <td>93309.0</td>\n",
       "      <td>7180.0</td>\n",
       "      <td>719.0</td>\n",
       "      <td>0</td>\n",
       "    </tr>\n",
       "  </tbody>\n",
       "</table>\n",
       "</div>"
      ],
      "text/plain": [
       "  Home Ownership  Annual Income Years in current job  Tax Liens  \\\n",
       "0       Own Home       482087.0                  NaN        0.0   \n",
       "1       Own Home      1025487.0            10+ years        0.0   \n",
       "2  Home Mortgage       751412.0              8 years        0.0   \n",
       "3       Own Home       805068.0              6 years        0.0   \n",
       "4           Rent       776264.0              8 years        0.0   \n",
       "\n",
       "   Number of Open Accounts  Years of Credit History  Maximum Open Credit  \\\n",
       "0                     11.0                     26.3             685960.0   \n",
       "1                     15.0                     15.3            1181730.0   \n",
       "2                     11.0                     35.0            1182434.0   \n",
       "3                      8.0                     22.5             147400.0   \n",
       "4                     13.0                     13.6             385836.0   \n",
       "\n",
       "   Number of Credit Problems  Months since last delinquent  Bankruptcies  \\\n",
       "0                        1.0                           NaN           1.0   \n",
       "1                        0.0                           NaN           0.0   \n",
       "2                        0.0                           NaN           0.0   \n",
       "3                        1.0                           NaN           1.0   \n",
       "4                        1.0                           NaN           0.0   \n",
       "\n",
       "              Purpose        Term  Current Loan Amount  \\\n",
       "0  debt consolidation  Short Term           99999999.0   \n",
       "1  debt consolidation   Long Term             264968.0   \n",
       "2  debt consolidation  Short Term           99999999.0   \n",
       "3  debt consolidation  Short Term             121396.0   \n",
       "4  debt consolidation  Short Term             125840.0   \n",
       "\n",
       "   Current Credit Balance  Monthly Debt  Credit Score  Credit Default  \n",
       "0                 47386.0        7914.0         749.0               0  \n",
       "1                394972.0       18373.0         737.0               1  \n",
       "2                308389.0       13651.0         742.0               0  \n",
       "3                 95855.0       11338.0         694.0               0  \n",
       "4                 93309.0        7180.0         719.0               0  "
      ]
     },
     "execution_count": 4,
     "metadata": {},
     "output_type": "execute_result"
    }
   ],
   "source": [
    "df_train = pd.read_csv(TRAIN_DATASET_PATH)\n",
    "df_train.head()"
   ]
  },
  {
   "cell_type": "code",
   "execution_count": 5,
   "metadata": {},
   "outputs": [
    {
     "data": {
      "text/plain": [
       "Home Ownership                            Own Home\n",
       "Annual Income                               482087\n",
       "Years in current job                           NaN\n",
       "Tax Liens                                        0\n",
       "Number of Open Accounts                         11\n",
       "Years of Credit History                       26.3\n",
       "Maximum Open Credit                         685960\n",
       "Number of Credit Problems                        1\n",
       "Months since last delinquent                   NaN\n",
       "Bankruptcies                                     1\n",
       "Purpose                         debt consolidation\n",
       "Term                                    Short Term\n",
       "Current Loan Amount                          1e+08\n",
       "Current Credit Balance                       47386\n",
       "Monthly Debt                                  7914\n",
       "Credit Score                                   749\n",
       "Credit Default                                   0\n",
       "Name: 0, dtype: object"
      ]
     },
     "execution_count": 5,
     "metadata": {},
     "output_type": "execute_result"
    }
   ],
   "source": [
    "df_train.iloc[0]"
   ]
  },
  {
   "cell_type": "code",
   "execution_count": 6,
   "metadata": {},
   "outputs": [
    {
     "data": {
      "text/html": [
       "<div>\n",
       "<style scoped>\n",
       "    .dataframe tbody tr th:only-of-type {\n",
       "        vertical-align: middle;\n",
       "    }\n",
       "\n",
       "    .dataframe tbody tr th {\n",
       "        vertical-align: top;\n",
       "    }\n",
       "\n",
       "    .dataframe thead th {\n",
       "        text-align: right;\n",
       "    }\n",
       "</style>\n",
       "<table border=\"1\" class=\"dataframe\">\n",
       "  <thead>\n",
       "    <tr style=\"text-align: right;\">\n",
       "      <th></th>\n",
       "      <th>Annual Income</th>\n",
       "      <th>Tax Liens</th>\n",
       "      <th>Number of Open Accounts</th>\n",
       "      <th>Years of Credit History</th>\n",
       "      <th>Maximum Open Credit</th>\n",
       "      <th>Number of Credit Problems</th>\n",
       "      <th>Months since last delinquent</th>\n",
       "      <th>Bankruptcies</th>\n",
       "      <th>Current Loan Amount</th>\n",
       "      <th>Current Credit Balance</th>\n",
       "      <th>Monthly Debt</th>\n",
       "      <th>Credit Score</th>\n",
       "      <th>Credit Default</th>\n",
       "    </tr>\n",
       "  </thead>\n",
       "  <tbody>\n",
       "    <tr>\n",
       "      <th>Annual Income</th>\n",
       "      <td>1.000000</td>\n",
       "      <td>0.066245</td>\n",
       "      <td>0.188524</td>\n",
       "      <td>0.186531</td>\n",
       "      <td>0.062218</td>\n",
       "      <td>-0.015407</td>\n",
       "      <td>-0.101787</td>\n",
       "      <td>-0.066877</td>\n",
       "      <td>0.032082</td>\n",
       "      <td>0.386481</td>\n",
       "      <td>0.584819</td>\n",
       "      <td>-0.037832</td>\n",
       "      <td>-0.101375</td>\n",
       "    </tr>\n",
       "    <tr>\n",
       "      <th>Tax Liens</th>\n",
       "      <td>0.066245</td>\n",
       "      <td>1.000000</td>\n",
       "      <td>-0.005360</td>\n",
       "      <td>0.009109</td>\n",
       "      <td>-0.002410</td>\n",
       "      <td>0.595339</td>\n",
       "      <td>0.052446</td>\n",
       "      <td>0.057360</td>\n",
       "      <td>-0.007835</td>\n",
       "      <td>-0.010195</td>\n",
       "      <td>0.027211</td>\n",
       "      <td>0.010581</td>\n",
       "      <td>0.024368</td>\n",
       "    </tr>\n",
       "    <tr>\n",
       "      <th>Number of Open Accounts</th>\n",
       "      <td>0.188524</td>\n",
       "      <td>-0.005360</td>\n",
       "      <td>1.000000</td>\n",
       "      <td>0.144819</td>\n",
       "      <td>0.023897</td>\n",
       "      <td>-0.017813</td>\n",
       "      <td>-0.032740</td>\n",
       "      <td>-0.019130</td>\n",
       "      <td>0.001346</td>\n",
       "      <td>0.267325</td>\n",
       "      <td>0.413904</td>\n",
       "      <td>0.016095</td>\n",
       "      <td>0.028884</td>\n",
       "    </tr>\n",
       "    <tr>\n",
       "      <th>Years of Credit History</th>\n",
       "      <td>0.186531</td>\n",
       "      <td>0.009109</td>\n",
       "      <td>0.144819</td>\n",
       "      <td>1.000000</td>\n",
       "      <td>0.029247</td>\n",
       "      <td>0.071259</td>\n",
       "      <td>-0.015375</td>\n",
       "      <td>0.085699</td>\n",
       "      <td>0.010623</td>\n",
       "      <td>0.217856</td>\n",
       "      <td>0.191978</td>\n",
       "      <td>-0.015683</td>\n",
       "      <td>-0.020567</td>\n",
       "    </tr>\n",
       "    <tr>\n",
       "      <th>Maximum Open Credit</th>\n",
       "      <td>0.062218</td>\n",
       "      <td>-0.002410</td>\n",
       "      <td>0.023897</td>\n",
       "      <td>0.029247</td>\n",
       "      <td>1.000000</td>\n",
       "      <td>-0.004750</td>\n",
       "      <td>-0.003849</td>\n",
       "      <td>-0.011650</td>\n",
       "      <td>-0.002334</td>\n",
       "      <td>0.088090</td>\n",
       "      <td>0.010197</td>\n",
       "      <td>-0.009136</td>\n",
       "      <td>-0.014275</td>\n",
       "    </tr>\n",
       "    <tr>\n",
       "      <th>Number of Credit Problems</th>\n",
       "      <td>-0.015407</td>\n",
       "      <td>0.595339</td>\n",
       "      <td>-0.017813</td>\n",
       "      <td>0.071259</td>\n",
       "      <td>-0.004750</td>\n",
       "      <td>1.000000</td>\n",
       "      <td>0.139905</td>\n",
       "      <td>0.730751</td>\n",
       "      <td>-0.008596</td>\n",
       "      <td>-0.124137</td>\n",
       "      <td>-0.042252</td>\n",
       "      <td>-0.018473</td>\n",
       "      <td>0.020088</td>\n",
       "    </tr>\n",
       "    <tr>\n",
       "      <th>Months since last delinquent</th>\n",
       "      <td>-0.101787</td>\n",
       "      <td>0.052446</td>\n",
       "      <td>-0.032740</td>\n",
       "      <td>-0.015375</td>\n",
       "      <td>-0.003849</td>\n",
       "      <td>0.139905</td>\n",
       "      <td>1.000000</td>\n",
       "      <td>0.162710</td>\n",
       "      <td>0.000459</td>\n",
       "      <td>-0.027198</td>\n",
       "      <td>-0.057702</td>\n",
       "      <td>-0.004395</td>\n",
       "      <td>0.002598</td>\n",
       "    </tr>\n",
       "    <tr>\n",
       "      <th>Bankruptcies</th>\n",
       "      <td>-0.066877</td>\n",
       "      <td>0.057360</td>\n",
       "      <td>-0.019130</td>\n",
       "      <td>0.085699</td>\n",
       "      <td>-0.011650</td>\n",
       "      <td>0.730751</td>\n",
       "      <td>0.162710</td>\n",
       "      <td>1.000000</td>\n",
       "      <td>-0.005987</td>\n",
       "      <td>-0.142849</td>\n",
       "      <td>-0.079579</td>\n",
       "      <td>-0.027488</td>\n",
       "      <td>0.001648</td>\n",
       "    </tr>\n",
       "    <tr>\n",
       "      <th>Current Loan Amount</th>\n",
       "      <td>0.032082</td>\n",
       "      <td>-0.007835</td>\n",
       "      <td>0.001346</td>\n",
       "      <td>0.010623</td>\n",
       "      <td>-0.002334</td>\n",
       "      <td>-0.008596</td>\n",
       "      <td>0.000459</td>\n",
       "      <td>-0.005987</td>\n",
       "      <td>1.000000</td>\n",
       "      <td>0.016672</td>\n",
       "      <td>-0.009382</td>\n",
       "      <td>-0.108552</td>\n",
       "      <td>-0.226522</td>\n",
       "    </tr>\n",
       "    <tr>\n",
       "      <th>Current Credit Balance</th>\n",
       "      <td>0.386481</td>\n",
       "      <td>-0.010195</td>\n",
       "      <td>0.267325</td>\n",
       "      <td>0.217856</td>\n",
       "      <td>0.088090</td>\n",
       "      <td>-0.124137</td>\n",
       "      <td>-0.027198</td>\n",
       "      <td>-0.142849</td>\n",
       "      <td>0.016672</td>\n",
       "      <td>1.000000</td>\n",
       "      <td>0.504964</td>\n",
       "      <td>-0.006159</td>\n",
       "      <td>-0.019522</td>\n",
       "    </tr>\n",
       "    <tr>\n",
       "      <th>Monthly Debt</th>\n",
       "      <td>0.584819</td>\n",
       "      <td>0.027211</td>\n",
       "      <td>0.413904</td>\n",
       "      <td>0.191978</td>\n",
       "      <td>0.010197</td>\n",
       "      <td>-0.042252</td>\n",
       "      <td>-0.057702</td>\n",
       "      <td>-0.079579</td>\n",
       "      <td>-0.009382</td>\n",
       "      <td>0.504964</td>\n",
       "      <td>1.000000</td>\n",
       "      <td>0.000234</td>\n",
       "      <td>0.018480</td>\n",
       "    </tr>\n",
       "    <tr>\n",
       "      <th>Credit Score</th>\n",
       "      <td>-0.037832</td>\n",
       "      <td>0.010581</td>\n",
       "      <td>0.016095</td>\n",
       "      <td>-0.015683</td>\n",
       "      <td>-0.009136</td>\n",
       "      <td>-0.018473</td>\n",
       "      <td>-0.004395</td>\n",
       "      <td>-0.027488</td>\n",
       "      <td>-0.108552</td>\n",
       "      <td>-0.006159</td>\n",
       "      <td>0.000234</td>\n",
       "      <td>1.000000</td>\n",
       "      <td>0.442050</td>\n",
       "    </tr>\n",
       "    <tr>\n",
       "      <th>Credit Default</th>\n",
       "      <td>-0.101375</td>\n",
       "      <td>0.024368</td>\n",
       "      <td>0.028884</td>\n",
       "      <td>-0.020567</td>\n",
       "      <td>-0.014275</td>\n",
       "      <td>0.020088</td>\n",
       "      <td>0.002598</td>\n",
       "      <td>0.001648</td>\n",
       "      <td>-0.226522</td>\n",
       "      <td>-0.019522</td>\n",
       "      <td>0.018480</td>\n",
       "      <td>0.442050</td>\n",
       "      <td>1.000000</td>\n",
       "    </tr>\n",
       "  </tbody>\n",
       "</table>\n",
       "</div>"
      ],
      "text/plain": [
       "                              Annual Income  Tax Liens  \\\n",
       "Annual Income                      1.000000   0.066245   \n",
       "Tax Liens                          0.066245   1.000000   \n",
       "Number of Open Accounts            0.188524  -0.005360   \n",
       "Years of Credit History            0.186531   0.009109   \n",
       "Maximum Open Credit                0.062218  -0.002410   \n",
       "Number of Credit Problems         -0.015407   0.595339   \n",
       "Months since last delinquent      -0.101787   0.052446   \n",
       "Bankruptcies                      -0.066877   0.057360   \n",
       "Current Loan Amount                0.032082  -0.007835   \n",
       "Current Credit Balance             0.386481  -0.010195   \n",
       "Monthly Debt                       0.584819   0.027211   \n",
       "Credit Score                      -0.037832   0.010581   \n",
       "Credit Default                    -0.101375   0.024368   \n",
       "\n",
       "                              Number of Open Accounts  \\\n",
       "Annual Income                                0.188524   \n",
       "Tax Liens                                   -0.005360   \n",
       "Number of Open Accounts                      1.000000   \n",
       "Years of Credit History                      0.144819   \n",
       "Maximum Open Credit                          0.023897   \n",
       "Number of Credit Problems                   -0.017813   \n",
       "Months since last delinquent                -0.032740   \n",
       "Bankruptcies                                -0.019130   \n",
       "Current Loan Amount                          0.001346   \n",
       "Current Credit Balance                       0.267325   \n",
       "Monthly Debt                                 0.413904   \n",
       "Credit Score                                 0.016095   \n",
       "Credit Default                               0.028884   \n",
       "\n",
       "                              Years of Credit History  Maximum Open Credit  \\\n",
       "Annual Income                                0.186531             0.062218   \n",
       "Tax Liens                                    0.009109            -0.002410   \n",
       "Number of Open Accounts                      0.144819             0.023897   \n",
       "Years of Credit History                      1.000000             0.029247   \n",
       "Maximum Open Credit                          0.029247             1.000000   \n",
       "Number of Credit Problems                    0.071259            -0.004750   \n",
       "Months since last delinquent                -0.015375            -0.003849   \n",
       "Bankruptcies                                 0.085699            -0.011650   \n",
       "Current Loan Amount                          0.010623            -0.002334   \n",
       "Current Credit Balance                       0.217856             0.088090   \n",
       "Monthly Debt                                 0.191978             0.010197   \n",
       "Credit Score                                -0.015683            -0.009136   \n",
       "Credit Default                              -0.020567            -0.014275   \n",
       "\n",
       "                              Number of Credit Problems  \\\n",
       "Annual Income                                 -0.015407   \n",
       "Tax Liens                                      0.595339   \n",
       "Number of Open Accounts                       -0.017813   \n",
       "Years of Credit History                        0.071259   \n",
       "Maximum Open Credit                           -0.004750   \n",
       "Number of Credit Problems                      1.000000   \n",
       "Months since last delinquent                   0.139905   \n",
       "Bankruptcies                                   0.730751   \n",
       "Current Loan Amount                           -0.008596   \n",
       "Current Credit Balance                        -0.124137   \n",
       "Monthly Debt                                  -0.042252   \n",
       "Credit Score                                  -0.018473   \n",
       "Credit Default                                 0.020088   \n",
       "\n",
       "                              Months since last delinquent  Bankruptcies  \\\n",
       "Annual Income                                    -0.101787     -0.066877   \n",
       "Tax Liens                                         0.052446      0.057360   \n",
       "Number of Open Accounts                          -0.032740     -0.019130   \n",
       "Years of Credit History                          -0.015375      0.085699   \n",
       "Maximum Open Credit                              -0.003849     -0.011650   \n",
       "Number of Credit Problems                         0.139905      0.730751   \n",
       "Months since last delinquent                      1.000000      0.162710   \n",
       "Bankruptcies                                      0.162710      1.000000   \n",
       "Current Loan Amount                               0.000459     -0.005987   \n",
       "Current Credit Balance                           -0.027198     -0.142849   \n",
       "Monthly Debt                                     -0.057702     -0.079579   \n",
       "Credit Score                                     -0.004395     -0.027488   \n",
       "Credit Default                                    0.002598      0.001648   \n",
       "\n",
       "                              Current Loan Amount  Current Credit Balance  \\\n",
       "Annual Income                            0.032082                0.386481   \n",
       "Tax Liens                               -0.007835               -0.010195   \n",
       "Number of Open Accounts                  0.001346                0.267325   \n",
       "Years of Credit History                  0.010623                0.217856   \n",
       "Maximum Open Credit                     -0.002334                0.088090   \n",
       "Number of Credit Problems               -0.008596               -0.124137   \n",
       "Months since last delinquent             0.000459               -0.027198   \n",
       "Bankruptcies                            -0.005987               -0.142849   \n",
       "Current Loan Amount                      1.000000                0.016672   \n",
       "Current Credit Balance                   0.016672                1.000000   \n",
       "Monthly Debt                            -0.009382                0.504964   \n",
       "Credit Score                            -0.108552               -0.006159   \n",
       "Credit Default                          -0.226522               -0.019522   \n",
       "\n",
       "                              Monthly Debt  Credit Score  Credit Default  \n",
       "Annual Income                     0.584819     -0.037832       -0.101375  \n",
       "Tax Liens                         0.027211      0.010581        0.024368  \n",
       "Number of Open Accounts           0.413904      0.016095        0.028884  \n",
       "Years of Credit History           0.191978     -0.015683       -0.020567  \n",
       "Maximum Open Credit               0.010197     -0.009136       -0.014275  \n",
       "Number of Credit Problems        -0.042252     -0.018473        0.020088  \n",
       "Months since last delinquent     -0.057702     -0.004395        0.002598  \n",
       "Bankruptcies                     -0.079579     -0.027488        0.001648  \n",
       "Current Loan Amount              -0.009382     -0.108552       -0.226522  \n",
       "Current Credit Balance            0.504964     -0.006159       -0.019522  \n",
       "Monthly Debt                      1.000000      0.000234        0.018480  \n",
       "Credit Score                      0.000234      1.000000        0.442050  \n",
       "Credit Default                    0.018480      0.442050        1.000000  "
      ]
     },
     "execution_count": 6,
     "metadata": {},
     "output_type": "execute_result"
    }
   ],
   "source": [
    "df_train.corr()"
   ]
  },
  {
   "cell_type": "markdown",
   "metadata": {},
   "source": [
    "**Заполнение пропусков**"
   ]
  },
  {
   "cell_type": "code",
   "execution_count": 7,
   "metadata": {},
   "outputs": [
    {
     "name": "stdout",
     "output_type": "stream",
     "text": [
      "<class 'pandas.core.frame.DataFrame'>\n",
      "RangeIndex: 7500 entries, 0 to 7499\n",
      "Data columns (total 17 columns):\n",
      " #   Column                        Non-Null Count  Dtype  \n",
      "---  ------                        --------------  -----  \n",
      " 0   Home Ownership                7500 non-null   object \n",
      " 1   Annual Income                 5943 non-null   float64\n",
      " 2   Years in current job          7129 non-null   object \n",
      " 3   Tax Liens                     7500 non-null   float64\n",
      " 4   Number of Open Accounts       7500 non-null   float64\n",
      " 5   Years of Credit History       7500 non-null   float64\n",
      " 6   Maximum Open Credit           7500 non-null   float64\n",
      " 7   Number of Credit Problems     7500 non-null   float64\n",
      " 8   Months since last delinquent  3419 non-null   float64\n",
      " 9   Bankruptcies                  7486 non-null   float64\n",
      " 10  Purpose                       7500 non-null   object \n",
      " 11  Term                          7500 non-null   object \n",
      " 12  Current Loan Amount           7500 non-null   float64\n",
      " 13  Current Credit Balance        7500 non-null   float64\n",
      " 14  Monthly Debt                  7500 non-null   float64\n",
      " 15  Credit Score                  5943 non-null   float64\n",
      " 16  Credit Default                7500 non-null   int64  \n",
      "dtypes: float64(12), int64(1), object(4)\n",
      "memory usage: 996.2+ KB\n"
     ]
    }
   ],
   "source": [
    "df_train.info()"
   ]
  },
  {
   "cell_type": "code",
   "execution_count": 8,
   "metadata": {},
   "outputs": [
    {
     "data": {
      "text/plain": [
       "Home Mortgage    3637\n",
       "Rent             3204\n",
       "Own Home          647\n",
       "Have Mortgage      12\n",
       "Name: Home Ownership, dtype: int64"
      ]
     },
     "execution_count": 8,
     "metadata": {},
     "output_type": "execute_result"
    }
   ],
   "source": [
    "df_train['Home Ownership'].value_counts()"
   ]
  },
  {
   "cell_type": "markdown",
   "metadata": {},
   "source": [
    "**Принимаем Home Mortgage - за 0, Rent за 1, Own Home за 2, Have Mortgage за 3**"
   ]
  },
  {
   "cell_type": "code",
   "execution_count": 9,
   "metadata": {},
   "outputs": [],
   "source": [
    "df_train['Home Ownership'] = df_train['Home Ownership'].map({'Home Mortgage':0, 'Rent':1,'Own Home':2,'Have Mortgage':3})"
   ]
  },
  {
   "cell_type": "code",
   "execution_count": 10,
   "metadata": {},
   "outputs": [
    {
     "data": {
      "text/plain": [
       "Short Term    5556\n",
       "Long Term     1944\n",
       "Name: Term, dtype: int64"
      ]
     },
     "execution_count": 10,
     "metadata": {},
     "output_type": "execute_result"
    }
   ],
   "source": [
    "df_train['Term'].value_counts()"
   ]
  },
  {
   "cell_type": "markdown",
   "metadata": {},
   "source": [
    "**Принимаем Short Term как 0 Long Term как 1**"
   ]
  },
  {
   "cell_type": "code",
   "execution_count": 11,
   "metadata": {},
   "outputs": [],
   "source": [
    "df_train['Term'] = df_train['Term'].map({'Short Term':0, 'Long Term':1})"
   ]
  },
  {
   "cell_type": "code",
   "execution_count": 12,
   "metadata": {},
   "outputs": [],
   "source": [
    "imputer = KNNImputer(n_neighbors=15)"
   ]
  },
  {
   "cell_type": "code",
   "execution_count": 13,
   "metadata": {},
   "outputs": [],
   "source": [
    "df_train.loc[:,'Annual Income'] = imputer.fit_transform(df_train.loc[:,['Annual Income','Monthly Debt']])[:,0]"
   ]
  },
  {
   "cell_type": "code",
   "execution_count": 14,
   "metadata": {},
   "outputs": [],
   "source": [
    "df_train.loc[:,'Bankruptcies'] = imputer.fit_transform(df_train.loc[:,['Bankruptcies','Number of Credit Problems']])[:,0]"
   ]
  },
  {
   "cell_type": "code",
   "execution_count": 15,
   "metadata": {},
   "outputs": [],
   "source": [
    "df_train.loc[:,'Months since last delinquent'] = imputer.fit_transform(df_train.loc[:,['Months since last delinquent','Bankruptcies']])[:,0]"
   ]
  },
  {
   "cell_type": "code",
   "execution_count": 16,
   "metadata": {},
   "outputs": [],
   "source": [
    "imputer = KNNImputer(n_neighbors=5)"
   ]
  },
  {
   "cell_type": "code",
   "execution_count": 17,
   "metadata": {},
   "outputs": [],
   "source": [
    "df_train.loc[:,'Credit Score'] = imputer.fit_transform(df_train.loc[:,['Credit Score','Credit Default']])[:,0]"
   ]
  },
  {
   "cell_type": "code",
   "execution_count": 18,
   "metadata": {},
   "outputs": [
    {
     "data": {
      "text/plain": [
       "0        749.0\n",
       "1        737.0\n",
       "2        742.0\n",
       "3        694.0\n",
       "4        719.0\n",
       "         ...  \n",
       "7495     697.0\n",
       "7496    7410.0\n",
       "7497     748.0\n",
       "7498     723.0\n",
       "7499     723.0\n",
       "Name: Credit Score, Length: 7500, dtype: float64"
      ]
     },
     "execution_count": 18,
     "metadata": {},
     "output_type": "execute_result"
    }
   ],
   "source": [
    "df_train.loc[:,'Credit Score']"
   ]
  },
  {
   "cell_type": "code",
   "execution_count": 19,
   "metadata": {},
   "outputs": [
    {
     "data": {
      "text/plain": [
       "10+ years    2332\n",
       "2 years       705\n",
       "3 years       620\n",
       "< 1 year      563\n",
       "5 years       516\n",
       "1 year        504\n",
       "4 years       469\n",
       "6 years       426\n",
       "7 years       396\n",
       "8 years       339\n",
       "9 years       259\n",
       "Name: Years in current job, dtype: int64"
      ]
     },
     "execution_count": 19,
     "metadata": {},
     "output_type": "execute_result"
    }
   ],
   "source": [
    "df_train['Years in current job'].value_counts()"
   ]
  },
  {
   "cell_type": "code",
   "execution_count": 20,
   "metadata": {},
   "outputs": [],
   "source": [
    "df_train['Years in current job'] = df_train['Years in current job'].map({'< 1 year':0, '1 year':1,'2 years':2,'3 years':3,\n",
    "                                                            '4 years':4,'5 years':5,'6 years':6,'7 years':7,\n",
    "                                                            '8 years':8,'9 years':9,'10+ years':10})"
   ]
  },
  {
   "cell_type": "code",
   "execution_count": 21,
   "metadata": {},
   "outputs": [],
   "source": [
    "df_train.loc[:,'Years in current job']=np.rint(imputer.fit_transform(df_train.loc[:,['Years in current job','Years of Credit History']])[:,0])"
   ]
  },
  {
   "cell_type": "code",
   "execution_count": 22,
   "metadata": {},
   "outputs": [
    {
     "data": {
      "text/plain": [
       "0        6.0\n",
       "1       10.0\n",
       "2        8.0\n",
       "3        6.0\n",
       "4        8.0\n",
       "        ... \n",
       "7495     0.0\n",
       "7496     1.0\n",
       "7497     6.0\n",
       "7498     5.0\n",
       "7499     4.0\n",
       "Name: Years in current job, Length: 7500, dtype: float64"
      ]
     },
     "execution_count": 22,
     "metadata": {},
     "output_type": "execute_result"
    }
   ],
   "source": [
    "df_train.loc[:,'Years in current job']"
   ]
  },
  {
   "cell_type": "code",
   "execution_count": 23,
   "metadata": {},
   "outputs": [
    {
     "data": {
      "text/plain": [
       "debt consolidation      5944\n",
       "other                    665\n",
       "home improvements        412\n",
       "business loan            129\n",
       "buy a car                 96\n",
       "medical bills             71\n",
       "major purchase            40\n",
       "take a trip               37\n",
       "buy house                 34\n",
       "small business            26\n",
       "wedding                   15\n",
       "moving                    11\n",
       "educational expenses      10\n",
       "vacation                   8\n",
       "renewable energy           2\n",
       "Name: Purpose, dtype: int64"
      ]
     },
     "execution_count": 23,
     "metadata": {},
     "output_type": "execute_result"
    }
   ],
   "source": [
    "df_train['Purpose'].value_counts()"
   ]
  },
  {
   "cell_type": "code",
   "execution_count": 24,
   "metadata": {},
   "outputs": [],
   "source": [
    "df_train['Purpose'] = df_train['Purpose'].map({'debt consolidation':0, 'other':1,'home improvements':2,'business loan':3,\n",
    "                                                            'buy a car':4,'medical bills':5,'major purchase':6,'take a trip':7,\n",
    "                                                            'buy house':8,'small business':9,'wedding':10,'moving':11,'educational expenses':12,'vacation':13,'renewable energy':14})"
   ]
  },
  {
   "cell_type": "code",
   "execution_count": 25,
   "metadata": {},
   "outputs": [
    {
     "name": "stdout",
     "output_type": "stream",
     "text": [
      "<class 'pandas.core.frame.DataFrame'>\n",
      "RangeIndex: 2500 entries, 0 to 2499\n",
      "Data columns (total 16 columns):\n",
      " #   Column                        Non-Null Count  Dtype  \n",
      "---  ------                        --------------  -----  \n",
      " 0   Home Ownership                2500 non-null   object \n",
      " 1   Annual Income                 1987 non-null   float64\n",
      " 2   Years in current job          2414 non-null   object \n",
      " 3   Tax Liens                     2500 non-null   float64\n",
      " 4   Number of Open Accounts       2500 non-null   float64\n",
      " 5   Years of Credit History       2500 non-null   float64\n",
      " 6   Maximum Open Credit           2500 non-null   float64\n",
      " 7   Number of Credit Problems     2500 non-null   float64\n",
      " 8   Months since last delinquent  1142 non-null   float64\n",
      " 9   Bankruptcies                  2497 non-null   float64\n",
      " 10  Purpose                       2500 non-null   object \n",
      " 11  Term                          2500 non-null   object \n",
      " 12  Current Loan Amount           2500 non-null   float64\n",
      " 13  Current Credit Balance        2500 non-null   float64\n",
      " 14  Monthly Debt                  2500 non-null   float64\n",
      " 15  Credit Score                  1987 non-null   float64\n",
      "dtypes: float64(12), object(4)\n",
      "memory usage: 312.6+ KB\n"
     ]
    }
   ],
   "source": [
    "df_test.info()"
   ]
  },
  {
   "cell_type": "code",
   "execution_count": 26,
   "metadata": {},
   "outputs": [
    {
     "data": {
      "text/html": [
       "<div>\n",
       "<style scoped>\n",
       "    .dataframe tbody tr th:only-of-type {\n",
       "        vertical-align: middle;\n",
       "    }\n",
       "\n",
       "    .dataframe tbody tr th {\n",
       "        vertical-align: top;\n",
       "    }\n",
       "\n",
       "    .dataframe thead th {\n",
       "        text-align: right;\n",
       "    }\n",
       "</style>\n",
       "<table border=\"1\" class=\"dataframe\">\n",
       "  <thead>\n",
       "    <tr style=\"text-align: right;\">\n",
       "      <th></th>\n",
       "      <th>Annual Income</th>\n",
       "      <th>Tax Liens</th>\n",
       "      <th>Number of Open Accounts</th>\n",
       "      <th>Years of Credit History</th>\n",
       "      <th>Maximum Open Credit</th>\n",
       "      <th>Number of Credit Problems</th>\n",
       "      <th>Months since last delinquent</th>\n",
       "      <th>Bankruptcies</th>\n",
       "      <th>Current Loan Amount</th>\n",
       "      <th>Current Credit Balance</th>\n",
       "      <th>Monthly Debt</th>\n",
       "      <th>Credit Score</th>\n",
       "    </tr>\n",
       "  </thead>\n",
       "  <tbody>\n",
       "    <tr>\n",
       "      <th>Annual Income</th>\n",
       "      <td>1.000000</td>\n",
       "      <td>0.030393</td>\n",
       "      <td>0.132920</td>\n",
       "      <td>0.194559</td>\n",
       "      <td>0.183899</td>\n",
       "      <td>-0.011999</td>\n",
       "      <td>-0.088417</td>\n",
       "      <td>-0.053245</td>\n",
       "      <td>-0.005099</td>\n",
       "      <td>0.330581</td>\n",
       "      <td>0.501720</td>\n",
       "      <td>-0.046856</td>\n",
       "    </tr>\n",
       "    <tr>\n",
       "      <th>Tax Liens</th>\n",
       "      <td>0.030393</td>\n",
       "      <td>1.000000</td>\n",
       "      <td>-0.009228</td>\n",
       "      <td>0.004386</td>\n",
       "      <td>-0.014659</td>\n",
       "      <td>0.715545</td>\n",
       "      <td>-0.023596</td>\n",
       "      <td>0.016223</td>\n",
       "      <td>-0.004599</td>\n",
       "      <td>-0.010357</td>\n",
       "      <td>-0.004147</td>\n",
       "      <td>-0.013509</td>\n",
       "    </tr>\n",
       "    <tr>\n",
       "      <th>Number of Open Accounts</th>\n",
       "      <td>0.132920</td>\n",
       "      <td>-0.009228</td>\n",
       "      <td>1.000000</td>\n",
       "      <td>0.108705</td>\n",
       "      <td>0.190505</td>\n",
       "      <td>-0.029556</td>\n",
       "      <td>-0.073359</td>\n",
       "      <td>-0.039349</td>\n",
       "      <td>0.023073</td>\n",
       "      <td>0.223589</td>\n",
       "      <td>0.415060</td>\n",
       "      <td>0.004945</td>\n",
       "    </tr>\n",
       "    <tr>\n",
       "      <th>Years of Credit History</th>\n",
       "      <td>0.194559</td>\n",
       "      <td>0.004386</td>\n",
       "      <td>0.108705</td>\n",
       "      <td>1.000000</td>\n",
       "      <td>0.143173</td>\n",
       "      <td>0.072036</td>\n",
       "      <td>-0.069014</td>\n",
       "      <td>0.102102</td>\n",
       "      <td>-0.016172</td>\n",
       "      <td>0.214668</td>\n",
       "      <td>0.192880</td>\n",
       "      <td>0.006512</td>\n",
       "    </tr>\n",
       "    <tr>\n",
       "      <th>Maximum Open Credit</th>\n",
       "      <td>0.183899</td>\n",
       "      <td>-0.014659</td>\n",
       "      <td>0.190505</td>\n",
       "      <td>0.143173</td>\n",
       "      <td>1.000000</td>\n",
       "      <td>-0.060845</td>\n",
       "      <td>-0.051884</td>\n",
       "      <td>-0.067187</td>\n",
       "      <td>0.004267</td>\n",
       "      <td>0.667832</td>\n",
       "      <td>0.245732</td>\n",
       "      <td>-0.026126</td>\n",
       "    </tr>\n",
       "    <tr>\n",
       "      <th>Number of Credit Problems</th>\n",
       "      <td>-0.011999</td>\n",
       "      <td>0.715545</td>\n",
       "      <td>-0.029556</td>\n",
       "      <td>0.072036</td>\n",
       "      <td>-0.060845</td>\n",
       "      <td>1.000000</td>\n",
       "      <td>0.045304</td>\n",
       "      <td>0.642100</td>\n",
       "      <td>-0.018175</td>\n",
       "      <td>-0.097057</td>\n",
       "      <td>-0.047975</td>\n",
       "      <td>0.023367</td>\n",
       "    </tr>\n",
       "    <tr>\n",
       "      <th>Months since last delinquent</th>\n",
       "      <td>-0.088417</td>\n",
       "      <td>-0.023596</td>\n",
       "      <td>-0.073359</td>\n",
       "      <td>-0.069014</td>\n",
       "      <td>-0.051884</td>\n",
       "      <td>0.045304</td>\n",
       "      <td>1.000000</td>\n",
       "      <td>0.082228</td>\n",
       "      <td>-0.000945</td>\n",
       "      <td>-0.013392</td>\n",
       "      <td>-0.048131</td>\n",
       "      <td>-0.023403</td>\n",
       "    </tr>\n",
       "    <tr>\n",
       "      <th>Bankruptcies</th>\n",
       "      <td>-0.053245</td>\n",
       "      <td>0.016223</td>\n",
       "      <td>-0.039349</td>\n",
       "      <td>0.102102</td>\n",
       "      <td>-0.067187</td>\n",
       "      <td>0.642100</td>\n",
       "      <td>0.082228</td>\n",
       "      <td>1.000000</td>\n",
       "      <td>-0.006434</td>\n",
       "      <td>-0.119585</td>\n",
       "      <td>-0.055945</td>\n",
       "      <td>0.034879</td>\n",
       "    </tr>\n",
       "    <tr>\n",
       "      <th>Current Loan Amount</th>\n",
       "      <td>-0.005099</td>\n",
       "      <td>-0.004599</td>\n",
       "      <td>0.023073</td>\n",
       "      <td>-0.016172</td>\n",
       "      <td>0.004267</td>\n",
       "      <td>-0.018175</td>\n",
       "      <td>-0.000945</td>\n",
       "      <td>-0.006434</td>\n",
       "      <td>1.000000</td>\n",
       "      <td>0.007324</td>\n",
       "      <td>0.004710</td>\n",
       "      <td>-0.121867</td>\n",
       "    </tr>\n",
       "    <tr>\n",
       "      <th>Current Credit Balance</th>\n",
       "      <td>0.330581</td>\n",
       "      <td>-0.010357</td>\n",
       "      <td>0.223589</td>\n",
       "      <td>0.214668</td>\n",
       "      <td>0.667832</td>\n",
       "      <td>-0.097057</td>\n",
       "      <td>-0.013392</td>\n",
       "      <td>-0.119585</td>\n",
       "      <td>0.007324</td>\n",
       "      <td>1.000000</td>\n",
       "      <td>0.504670</td>\n",
       "      <td>-0.017820</td>\n",
       "    </tr>\n",
       "    <tr>\n",
       "      <th>Monthly Debt</th>\n",
       "      <td>0.501720</td>\n",
       "      <td>-0.004147</td>\n",
       "      <td>0.415060</td>\n",
       "      <td>0.192880</td>\n",
       "      <td>0.245732</td>\n",
       "      <td>-0.047975</td>\n",
       "      <td>-0.048131</td>\n",
       "      <td>-0.055945</td>\n",
       "      <td>0.004710</td>\n",
       "      <td>0.504670</td>\n",
       "      <td>1.000000</td>\n",
       "      <td>0.004933</td>\n",
       "    </tr>\n",
       "    <tr>\n",
       "      <th>Credit Score</th>\n",
       "      <td>-0.046856</td>\n",
       "      <td>-0.013509</td>\n",
       "      <td>0.004945</td>\n",
       "      <td>0.006512</td>\n",
       "      <td>-0.026126</td>\n",
       "      <td>0.023367</td>\n",
       "      <td>-0.023403</td>\n",
       "      <td>0.034879</td>\n",
       "      <td>-0.121867</td>\n",
       "      <td>-0.017820</td>\n",
       "      <td>0.004933</td>\n",
       "      <td>1.000000</td>\n",
       "    </tr>\n",
       "  </tbody>\n",
       "</table>\n",
       "</div>"
      ],
      "text/plain": [
       "                              Annual Income  Tax Liens  \\\n",
       "Annual Income                      1.000000   0.030393   \n",
       "Tax Liens                          0.030393   1.000000   \n",
       "Number of Open Accounts            0.132920  -0.009228   \n",
       "Years of Credit History            0.194559   0.004386   \n",
       "Maximum Open Credit                0.183899  -0.014659   \n",
       "Number of Credit Problems         -0.011999   0.715545   \n",
       "Months since last delinquent      -0.088417  -0.023596   \n",
       "Bankruptcies                      -0.053245   0.016223   \n",
       "Current Loan Amount               -0.005099  -0.004599   \n",
       "Current Credit Balance             0.330581  -0.010357   \n",
       "Monthly Debt                       0.501720  -0.004147   \n",
       "Credit Score                      -0.046856  -0.013509   \n",
       "\n",
       "                              Number of Open Accounts  \\\n",
       "Annual Income                                0.132920   \n",
       "Tax Liens                                   -0.009228   \n",
       "Number of Open Accounts                      1.000000   \n",
       "Years of Credit History                      0.108705   \n",
       "Maximum Open Credit                          0.190505   \n",
       "Number of Credit Problems                   -0.029556   \n",
       "Months since last delinquent                -0.073359   \n",
       "Bankruptcies                                -0.039349   \n",
       "Current Loan Amount                          0.023073   \n",
       "Current Credit Balance                       0.223589   \n",
       "Monthly Debt                                 0.415060   \n",
       "Credit Score                                 0.004945   \n",
       "\n",
       "                              Years of Credit History  Maximum Open Credit  \\\n",
       "Annual Income                                0.194559             0.183899   \n",
       "Tax Liens                                    0.004386            -0.014659   \n",
       "Number of Open Accounts                      0.108705             0.190505   \n",
       "Years of Credit History                      1.000000             0.143173   \n",
       "Maximum Open Credit                          0.143173             1.000000   \n",
       "Number of Credit Problems                    0.072036            -0.060845   \n",
       "Months since last delinquent                -0.069014            -0.051884   \n",
       "Bankruptcies                                 0.102102            -0.067187   \n",
       "Current Loan Amount                         -0.016172             0.004267   \n",
       "Current Credit Balance                       0.214668             0.667832   \n",
       "Monthly Debt                                 0.192880             0.245732   \n",
       "Credit Score                                 0.006512            -0.026126   \n",
       "\n",
       "                              Number of Credit Problems  \\\n",
       "Annual Income                                 -0.011999   \n",
       "Tax Liens                                      0.715545   \n",
       "Number of Open Accounts                       -0.029556   \n",
       "Years of Credit History                        0.072036   \n",
       "Maximum Open Credit                           -0.060845   \n",
       "Number of Credit Problems                      1.000000   \n",
       "Months since last delinquent                   0.045304   \n",
       "Bankruptcies                                   0.642100   \n",
       "Current Loan Amount                           -0.018175   \n",
       "Current Credit Balance                        -0.097057   \n",
       "Monthly Debt                                  -0.047975   \n",
       "Credit Score                                   0.023367   \n",
       "\n",
       "                              Months since last delinquent  Bankruptcies  \\\n",
       "Annual Income                                    -0.088417     -0.053245   \n",
       "Tax Liens                                        -0.023596      0.016223   \n",
       "Number of Open Accounts                          -0.073359     -0.039349   \n",
       "Years of Credit History                          -0.069014      0.102102   \n",
       "Maximum Open Credit                              -0.051884     -0.067187   \n",
       "Number of Credit Problems                         0.045304      0.642100   \n",
       "Months since last delinquent                      1.000000      0.082228   \n",
       "Bankruptcies                                      0.082228      1.000000   \n",
       "Current Loan Amount                              -0.000945     -0.006434   \n",
       "Current Credit Balance                           -0.013392     -0.119585   \n",
       "Monthly Debt                                     -0.048131     -0.055945   \n",
       "Credit Score                                     -0.023403      0.034879   \n",
       "\n",
       "                              Current Loan Amount  Current Credit Balance  \\\n",
       "Annual Income                           -0.005099                0.330581   \n",
       "Tax Liens                               -0.004599               -0.010357   \n",
       "Number of Open Accounts                  0.023073                0.223589   \n",
       "Years of Credit History                 -0.016172                0.214668   \n",
       "Maximum Open Credit                      0.004267                0.667832   \n",
       "Number of Credit Problems               -0.018175               -0.097057   \n",
       "Months since last delinquent            -0.000945               -0.013392   \n",
       "Bankruptcies                            -0.006434               -0.119585   \n",
       "Current Loan Amount                      1.000000                0.007324   \n",
       "Current Credit Balance                   0.007324                1.000000   \n",
       "Monthly Debt                             0.004710                0.504670   \n",
       "Credit Score                            -0.121867               -0.017820   \n",
       "\n",
       "                              Monthly Debt  Credit Score  \n",
       "Annual Income                     0.501720     -0.046856  \n",
       "Tax Liens                        -0.004147     -0.013509  \n",
       "Number of Open Accounts           0.415060      0.004945  \n",
       "Years of Credit History           0.192880      0.006512  \n",
       "Maximum Open Credit               0.245732     -0.026126  \n",
       "Number of Credit Problems        -0.047975      0.023367  \n",
       "Months since last delinquent     -0.048131     -0.023403  \n",
       "Bankruptcies                     -0.055945      0.034879  \n",
       "Current Loan Amount               0.004710     -0.121867  \n",
       "Current Credit Balance            0.504670     -0.017820  \n",
       "Monthly Debt                      1.000000      0.004933  \n",
       "Credit Score                      0.004933      1.000000  "
      ]
     },
     "execution_count": 26,
     "metadata": {},
     "output_type": "execute_result"
    }
   ],
   "source": [
    "df_test.corr()"
   ]
  },
  {
   "cell_type": "code",
   "execution_count": 27,
   "metadata": {},
   "outputs": [],
   "source": [
    "imputer = KNNImputer(n_neighbors=15)"
   ]
  },
  {
   "cell_type": "code",
   "execution_count": 28,
   "metadata": {},
   "outputs": [],
   "source": [
    "df_test.loc[:,'Annual Income'] = imputer.fit_transform(df_test.loc[:,['Annual Income','Monthly Debt']])[:,0]"
   ]
  },
  {
   "cell_type": "code",
   "execution_count": 29,
   "metadata": {},
   "outputs": [],
   "source": [
    "df_test['Years in current job'] = df_test['Years in current job'].map({'< 1 year':0, '1 year':1,'2 years':2,'3 years':3,\n",
    "                                                            '4 years':4,'5 years':5,'6 years':6,'7 years':7,\n",
    "                                                            '8 years':8,'9 years':9,'10+ years':10})"
   ]
  },
  {
   "cell_type": "code",
   "execution_count": 30,
   "metadata": {},
   "outputs": [],
   "source": [
    "df_test.loc[:,'Years in current job']=np.rint(imputer.fit_transform(df_test.loc[:,['Years in current job','Years of Credit History']])[:,0])"
   ]
  },
  {
   "cell_type": "code",
   "execution_count": 31,
   "metadata": {},
   "outputs": [],
   "source": [
    "df_test.loc[:,'Bankruptcies'] = imputer.fit_transform(df_test.loc[:,['Bankruptcies','Number of Credit Problems']])[:,0]"
   ]
  },
  {
   "cell_type": "code",
   "execution_count": 32,
   "metadata": {},
   "outputs": [],
   "source": [
    "df_test.loc[:,'Months since last delinquent'] = imputer.fit_transform(df_test.loc[:,['Months since last delinquent','Bankruptcies']])[:,0]"
   ]
  },
  {
   "cell_type": "code",
   "execution_count": 33,
   "metadata": {},
   "outputs": [],
   "source": [
    "df_test.loc[:,'Credit Score'] = imputer.fit_transform(df_test.loc[:,['Credit Score','Current Loan Amount']])[:,0]"
   ]
  },
  {
   "cell_type": "code",
   "execution_count": 34,
   "metadata": {},
   "outputs": [],
   "source": [
    "df_test['Purpose'] = df_test['Purpose'].map({'debt consolidation':0, 'other':1,'home improvements':2,'business loan':3,\n",
    "                                                            'buy a car':4,'medical bills':5,'major purchase':6,'take a trip':7,\n",
    "                                                            'buy house':8,'small business':9,'wedding':10,'moving':11,'educational expenses':12,'vacation':13,'renewable energy':14})"
   ]
  },
  {
   "cell_type": "code",
   "execution_count": 35,
   "metadata": {},
   "outputs": [],
   "source": [
    "df_test['Home Ownership'] = df_test['Home Ownership'].map({'Home Mortgage':0, 'Rent':1,'Own Home':2,'Have Mortgage':3})"
   ]
  },
  {
   "cell_type": "code",
   "execution_count": 36,
   "metadata": {},
   "outputs": [],
   "source": [
    "df_test['Term'] = df_test['Term'].map({'Short Term':0, 'Long Term':1})"
   ]
  },
  {
   "cell_type": "code",
   "execution_count": 37,
   "metadata": {},
   "outputs": [],
   "source": [
    "TARGET_NAME = 'Credit Default'\n",
    "BASE_FEATURE_NAMES = df_train.columns.drop(TARGET_NAME).tolist()"
   ]
  },
  {
   "cell_type": "code",
   "execution_count": 38,
   "metadata": {},
   "outputs": [
    {
     "data": {
      "text/plain": [
       "0    5387\n",
       "1    2113\n",
       "Name: Credit Default, dtype: int64"
      ]
     },
     "execution_count": 38,
     "metadata": {},
     "output_type": "execute_result"
    }
   ],
   "source": [
    "df_train[TARGET_NAME].value_counts()"
   ]
  },
  {
   "cell_type": "code",
   "execution_count": 39,
   "metadata": {},
   "outputs": [
    {
     "data": {
      "image/png": "[encoded data removed]",
      "text/plain": [
       "<Figure size 720x576 with 1 Axes>"
      ]
     },
     "metadata": {
      "needs_background": "light"
     },
     "output_type": "display_data"
    }
   ],
   "source": [
    "corr_with_target = df_train[BASE_FEATURE_NAMES + [TARGET_NAME]].corr().iloc[:-1, -1].sort_values(ascending=False)\n",
    "\n",
    "plt.figure(figsize=(10, 8))\n",
    "\n",
    "sns.barplot(x=corr_with_target.values, y=corr_with_target.index)\n",
    "\n",
    "plt.title('Correlation with target variable')\n",
    "plt.show()"
   ]
  },
  {
   "cell_type": "code",
   "execution_count": 40,
   "metadata": {},
   "outputs": [
    {
     "data": {
      "image/png": "[encoded data removed]",
      "text/plain": [
       "<Figure size 576x360 with 1 Axes>"
      ]
     },
     "metadata": {
      "needs_background": "light"
     },
     "output_type": "display_data"
    }
   ],
   "source": [
    "plt.figure(figsize=(8, 5))\n",
    "\n",
    "sns.countplot(x='Term',hue=TARGET_NAME, data=df_train)\n",
    "\n",
    "plt.title('Target variable distribution')\n",
    "plt.show()\n"
   ]
  },
  {
   "cell_type": "code",
   "execution_count": 41,
   "metadata": {},
   "outputs": [
    {
     "data": {
      "image/png": "[encoded data removed]",
      "text/plain": [
       "<Figure size 576x360 with 1 Axes>"
      ]
     },
     "metadata": {
      "needs_background": "light"
     },
     "output_type": "display_data"
    }
   ],
   "source": [
    "plt.figure(figsize=(8, 5))\n",
    "\n",
    "sns.countplot(x='Home Ownership',hue=TARGET_NAME, data=df_train)\n",
    "\n",
    "plt.title('Target variable distribution')\n",
    "plt.show()"
   ]
  },
  {
   "cell_type": "markdown",
   "metadata": {},
   "source": [
    "**Построение базовых моделей**"
   ]
  },
  {
   "cell_type": "code",
   "execution_count": 42,
   "metadata": {},
   "outputs": [],
   "source": [
    "from sklearn.metrics import classification_report, f1_score, precision_score, recall_score\n",
    "from sklearn.linear_model import LogisticRegression"
   ]
  },
  {
   "cell_type": "code",
   "execution_count": 43,
   "metadata": {},
   "outputs": [],
   "source": [
    "def get_classification_report(y_train_true, y_train_pred, y_test_true, y_test_pred):\n",
    "    print('TRAIN\\n\\n' + classification_report(y_train_true, y_train_pred))\n",
    "    print('TEST\\n\\n' + classification_report(y_test_true, y_test_pred))\n",
    "    print('CONFUSION MATRIX\\n')\n",
    "    print(pd.crosstab(y_test_true, y_test_pred))"
   ]
  },
  {
   "cell_type": "code",
   "execution_count": 44,
   "metadata": {},
   "outputs": [
    {
     "data": {
      "text/plain": [
       "0    5387\n",
       "1    2113\n",
       "Name: Credit Default, dtype: int64"
      ]
     },
     "execution_count": 44,
     "metadata": {},
     "output_type": "execute_result"
    }
   ],
   "source": [
    "df_train['Credit Default'].value_counts()"
   ]
  },
  {
   "cell_type": "code",
   "execution_count": 45,
   "metadata": {},
   "outputs": [],
   "source": [
    "import pandas as pd\n",
    "import numpy as np\n",
    "import pickle\n",
    "import random\n",
    "\n",
    "from sklearn.preprocessing import StandardScaler, MinMaxScaler\n",
    "from sklearn.model_selection import train_test_split, ShuffleSplit, cross_val_score, learning_curve\n",
    "from sklearn.model_selection import KFold, GridSearchCV, RandomizedSearchCV\n",
    "from sklearn.metrics import classification_report, f1_score, precision_score, recall_score\n",
    "\n",
    "from sklearn.linear_model import LogisticRegression\n",
    "from sklearn.neighbors import KNeighborsClassifier\n",
    "\n",
    "import seaborn as sns\n",
    "from matplotlib import pyplot as plt\n",
    "%matplotlib inline"
   ]
  },
  {
   "cell_type": "code",
   "execution_count": 46,
   "metadata": {},
   "outputs": [
    {
     "data": {
      "text/html": [
       "<div>\n",
       "<style scoped>\n",
       "    .dataframe tbody tr th:only-of-type {\n",
       "        vertical-align: middle;\n",
       "    }\n",
       "\n",
       "    .dataframe tbody tr th {\n",
       "        vertical-align: top;\n",
       "    }\n",
       "\n",
       "    .dataframe thead th {\n",
       "        text-align: right;\n",
       "    }\n",
       "</style>\n",
       "<table border=\"1\" class=\"dataframe\">\n",
       "  <thead>\n",
       "    <tr style=\"text-align: right;\">\n",
       "      <th></th>\n",
       "      <th>Home Ownership</th>\n",
       "      <th>Annual Income</th>\n",
       "      <th>Years in current job</th>\n",
       "      <th>Tax Liens</th>\n",
       "      <th>Number of Open Accounts</th>\n",
       "      <th>Years of Credit History</th>\n",
       "      <th>Maximum Open Credit</th>\n",
       "      <th>Number of Credit Problems</th>\n",
       "      <th>Months since last delinquent</th>\n",
       "      <th>Bankruptcies</th>\n",
       "      <th>Purpose</th>\n",
       "      <th>Term</th>\n",
       "      <th>Current Loan Amount</th>\n",
       "      <th>Current Credit Balance</th>\n",
       "      <th>Monthly Debt</th>\n",
       "      <th>Credit Score</th>\n",
       "      <th>Credit Default</th>\n",
       "    </tr>\n",
       "  </thead>\n",
       "  <tbody>\n",
       "    <tr>\n",
       "      <th>0</th>\n",
       "      <td>2</td>\n",
       "      <td>482087.0</td>\n",
       "      <td>6.0</td>\n",
       "      <td>0.0</td>\n",
       "      <td>11.0</td>\n",
       "      <td>26.3</td>\n",
       "      <td>685960.0</td>\n",
       "      <td>1.0</td>\n",
       "      <td>45.866667</td>\n",
       "      <td>1.0</td>\n",
       "      <td>0</td>\n",
       "      <td>0</td>\n",
       "      <td>99999999.0</td>\n",
       "      <td>47386.0</td>\n",
       "      <td>7914.0</td>\n",
       "      <td>749.0</td>\n",
       "      <td>0</td>\n",
       "    </tr>\n",
       "    <tr>\n",
       "      <th>1</th>\n",
       "      <td>2</td>\n",
       "      <td>1025487.0</td>\n",
       "      <td>10.0</td>\n",
       "      <td>0.0</td>\n",
       "      <td>15.0</td>\n",
       "      <td>15.3</td>\n",
       "      <td>1181730.0</td>\n",
       "      <td>0.0</td>\n",
       "      <td>28.400000</td>\n",
       "      <td>0.0</td>\n",
       "      <td>0</td>\n",
       "      <td>1</td>\n",
       "      <td>264968.0</td>\n",
       "      <td>394972.0</td>\n",
       "      <td>18373.0</td>\n",
       "      <td>737.0</td>\n",
       "      <td>1</td>\n",
       "    </tr>\n",
       "    <tr>\n",
       "      <th>2</th>\n",
       "      <td>0</td>\n",
       "      <td>751412.0</td>\n",
       "      <td>8.0</td>\n",
       "      <td>0.0</td>\n",
       "      <td>11.0</td>\n",
       "      <td>35.0</td>\n",
       "      <td>1182434.0</td>\n",
       "      <td>0.0</td>\n",
       "      <td>28.400000</td>\n",
       "      <td>0.0</td>\n",
       "      <td>0</td>\n",
       "      <td>0</td>\n",
       "      <td>99999999.0</td>\n",
       "      <td>308389.0</td>\n",
       "      <td>13651.0</td>\n",
       "      <td>742.0</td>\n",
       "      <td>0</td>\n",
       "    </tr>\n",
       "    <tr>\n",
       "      <th>3</th>\n",
       "      <td>2</td>\n",
       "      <td>805068.0</td>\n",
       "      <td>6.0</td>\n",
       "      <td>0.0</td>\n",
       "      <td>8.0</td>\n",
       "      <td>22.5</td>\n",
       "      <td>147400.0</td>\n",
       "      <td>1.0</td>\n",
       "      <td>45.866667</td>\n",
       "      <td>1.0</td>\n",
       "      <td>0</td>\n",
       "      <td>0</td>\n",
       "      <td>121396.0</td>\n",
       "      <td>95855.0</td>\n",
       "      <td>11338.0</td>\n",
       "      <td>694.0</td>\n",
       "      <td>0</td>\n",
       "    </tr>\n",
       "    <tr>\n",
       "      <th>4</th>\n",
       "      <td>1</td>\n",
       "      <td>776264.0</td>\n",
       "      <td>8.0</td>\n",
       "      <td>0.0</td>\n",
       "      <td>13.0</td>\n",
       "      <td>13.6</td>\n",
       "      <td>385836.0</td>\n",
       "      <td>1.0</td>\n",
       "      <td>28.400000</td>\n",
       "      <td>0.0</td>\n",
       "      <td>0</td>\n",
       "      <td>0</td>\n",
       "      <td>125840.0</td>\n",
       "      <td>93309.0</td>\n",
       "      <td>7180.0</td>\n",
       "      <td>719.0</td>\n",
       "      <td>0</td>\n",
       "    </tr>\n",
       "  </tbody>\n",
       "</table>\n",
       "</div>"
      ],
      "text/plain": [
       "   Home Ownership  Annual Income  Years in current job  Tax Liens  \\\n",
       "0               2       482087.0                   6.0        0.0   \n",
       "1               2      1025487.0                  10.0        0.0   \n",
       "2               0       751412.0                   8.0        0.0   \n",
       "3               2       805068.0                   6.0        0.0   \n",
       "4               1       776264.0                   8.0        0.0   \n",
       "\n",
       "   Number of Open Accounts  Years of Credit History  Maximum Open Credit  \\\n",
       "0                     11.0                     26.3             685960.0   \n",
       "1                     15.0                     15.3            1181730.0   \n",
       "2                     11.0                     35.0            1182434.0   \n",
       "3                      8.0                     22.5             147400.0   \n",
       "4                     13.0                     13.6             385836.0   \n",
       "\n",
       "   Number of Credit Problems  Months since last delinquent  Bankruptcies  \\\n",
       "0                        1.0                     45.866667           1.0   \n",
       "1                        0.0                     28.400000           0.0   \n",
       "2                        0.0                     28.400000           0.0   \n",
       "3                        1.0                     45.866667           1.0   \n",
       "4                        1.0                     28.400000           0.0   \n",
       "\n",
       "   Purpose  Term  Current Loan Amount  Current Credit Balance  Monthly Debt  \\\n",
       "0        0     0           99999999.0                 47386.0        7914.0   \n",
       "1        0     1             264968.0                394972.0       18373.0   \n",
       "2        0     0           99999999.0                308389.0       13651.0   \n",
       "3        0     0             121396.0                 95855.0       11338.0   \n",
       "4        0     0             125840.0                 93309.0        7180.0   \n",
       "\n",
       "   Credit Score  Credit Default  \n",
       "0         749.0               0  \n",
       "1         737.0               1  \n",
       "2         742.0               0  \n",
       "3         694.0               0  \n",
       "4         719.0               0  "
      ]
     },
     "execution_count": 46,
     "metadata": {},
     "output_type": "execute_result"
    }
   ],
   "source": [
    "df_train.head()"
   ]
  },
  {
   "cell_type": "code",
   "execution_count": 47,
   "metadata": {},
   "outputs": [],
   "source": [
    "NUM_FEATURE_NAMES = ['Annual Income', 'Tax Liens', 'Number of Open Accounts', 'Years of Credit History', 'Maximum Open Credit', 'Number of Credit Problems', 'Bankruptcies', 'Current Loan Amount',\n",
    "                     'Current Credit Balance', 'Monthly Debt', 'Credit Score','Months since last delinquent']\n",
    "\n",
    "CAT_FEATURE_NAMES = ['Home Ownership', 'Years in current job', 'Purpose', 'Term']\n",
    "\n",
    "SELECTED_FEATURE_NAMES = NUM_FEATURE_NAMES+CAT_FEATURE_NAMES"
   ]
  },
  {
   "cell_type": "code",
   "execution_count": 48,
   "metadata": {},
   "outputs": [],
   "source": [
    "for colname in CAT_FEATURE_NAMES:\n",
    "    df_train[colname] = df_train[colname].astype(str)"
   ]
  },
  {
   "cell_type": "code",
   "execution_count": 49,
   "metadata": {},
   "outputs": [
    {
     "data": {
      "text/html": [
       "<div>\n",
       "<style scoped>\n",
       "    .dataframe tbody tr th:only-of-type {\n",
       "        vertical-align: middle;\n",
       "    }\n",
       "\n",
       "    .dataframe tbody tr th {\n",
       "        vertical-align: top;\n",
       "    }\n",
       "\n",
       "    .dataframe thead th {\n",
       "        text-align: right;\n",
       "    }\n",
       "</style>\n",
       "<table border=\"1\" class=\"dataframe\">\n",
       "  <thead>\n",
       "    <tr style=\"text-align: right;\">\n",
       "      <th></th>\n",
       "      <th>Home Ownership</th>\n",
       "      <th>Annual Income</th>\n",
       "      <th>Years in current job</th>\n",
       "      <th>Tax Liens</th>\n",
       "      <th>Number of Open Accounts</th>\n",
       "      <th>Years of Credit History</th>\n",
       "      <th>Maximum Open Credit</th>\n",
       "      <th>Number of Credit Problems</th>\n",
       "      <th>Months since last delinquent</th>\n",
       "      <th>Bankruptcies</th>\n",
       "      <th>Purpose</th>\n",
       "      <th>Term</th>\n",
       "      <th>Current Loan Amount</th>\n",
       "      <th>Current Credit Balance</th>\n",
       "      <th>Monthly Debt</th>\n",
       "      <th>Credit Score</th>\n",
       "    </tr>\n",
       "  </thead>\n",
       "  <tbody>\n",
       "    <tr>\n",
       "      <th>count</th>\n",
       "      <td>2500.00000</td>\n",
       "      <td>2.500000e+03</td>\n",
       "      <td>2500.000000</td>\n",
       "      <td>2500.000000</td>\n",
       "      <td>2500.000000</td>\n",
       "      <td>2500.000000</td>\n",
       "      <td>2.500000e+03</td>\n",
       "      <td>2500.000000</td>\n",
       "      <td>2500.000000</td>\n",
       "      <td>2500.000000</td>\n",
       "      <td>2500.000000</td>\n",
       "      <td>2500.000000</td>\n",
       "      <td>2.500000e+03</td>\n",
       "      <td>2.500000e+03</td>\n",
       "      <td>2500.000000</td>\n",
       "      <td>2500.000000</td>\n",
       "    </tr>\n",
       "    <tr>\n",
       "      <th>mean</th>\n",
       "      <td>0.61480</td>\n",
       "      <td>1.365274e+06</td>\n",
       "      <td>5.964400</td>\n",
       "      <td>0.035200</td>\n",
       "      <td>11.184400</td>\n",
       "      <td>18.325920</td>\n",
       "      <td>7.105704e+05</td>\n",
       "      <td>0.162000</td>\n",
       "      <td>35.756747</td>\n",
       "      <td>0.106800</td>\n",
       "      <td>0.534400</td>\n",
       "      <td>0.255600</td>\n",
       "      <td>1.215572e+07</td>\n",
       "      <td>2.963966e+05</td>\n",
       "      <td>18271.340000</td>\n",
       "      <td>1248.035360</td>\n",
       "    </tr>\n",
       "    <tr>\n",
       "      <th>std</th>\n",
       "      <td>0.67246</td>\n",
       "      <td>8.475815e+05</td>\n",
       "      <td>3.581545</td>\n",
       "      <td>0.386291</td>\n",
       "      <td>4.852774</td>\n",
       "      <td>7.254659</td>\n",
       "      <td>1.511983e+06</td>\n",
       "      <td>0.559894</td>\n",
       "      <td>15.013892</td>\n",
       "      <td>0.356994</td>\n",
       "      <td>1.478949</td>\n",
       "      <td>0.436285</td>\n",
       "      <td>3.226097e+07</td>\n",
       "      <td>3.783020e+05</td>\n",
       "      <td>11543.881469</td>\n",
       "      <td>1567.016934</td>\n",
       "    </tr>\n",
       "    <tr>\n",
       "      <th>min</th>\n",
       "      <td>0.00000</td>\n",
       "      <td>1.065330e+05</td>\n",
       "      <td>0.000000</td>\n",
       "      <td>0.000000</td>\n",
       "      <td>1.000000</td>\n",
       "      <td>3.900000</td>\n",
       "      <td>0.000000e+00</td>\n",
       "      <td>0.000000</td>\n",
       "      <td>0.000000</td>\n",
       "      <td>0.000000</td>\n",
       "      <td>0.000000</td>\n",
       "      <td>0.000000</td>\n",
       "      <td>1.542200e+04</td>\n",
       "      <td>0.000000e+00</td>\n",
       "      <td>93.000000</td>\n",
       "      <td>585.000000</td>\n",
       "    </tr>\n",
       "    <tr>\n",
       "      <th>25%</th>\n",
       "      <td>0.00000</td>\n",
       "      <td>8.928528e+05</td>\n",
       "      <td>3.000000</td>\n",
       "      <td>0.000000</td>\n",
       "      <td>8.000000</td>\n",
       "      <td>13.400000</td>\n",
       "      <td>2.785860e+05</td>\n",
       "      <td>0.000000</td>\n",
       "      <td>33.000000</td>\n",
       "      <td>0.000000</td>\n",
       "      <td>0.000000</td>\n",
       "      <td>0.000000</td>\n",
       "      <td>1.871265e+05</td>\n",
       "      <td>1.101145e+05</td>\n",
       "      <td>10024.750000</td>\n",
       "      <td>715.333333</td>\n",
       "    </tr>\n",
       "    <tr>\n",
       "      <th>50%</th>\n",
       "      <td>1.00000</td>\n",
       "      <td>1.208708e+06</td>\n",
       "      <td>6.000000</td>\n",
       "      <td>0.000000</td>\n",
       "      <td>10.000000</td>\n",
       "      <td>17.000000</td>\n",
       "      <td>4.786760e+05</td>\n",
       "      <td>0.000000</td>\n",
       "      <td>36.466667</td>\n",
       "      <td>0.000000</td>\n",
       "      <td>0.000000</td>\n",
       "      <td>0.000000</td>\n",
       "      <td>3.223660e+05</td>\n",
       "      <td>2.073850e+05</td>\n",
       "      <td>16642.500000</td>\n",
       "      <td>734.833333</td>\n",
       "    </tr>\n",
       "    <tr>\n",
       "      <th>75%</th>\n",
       "      <td>1.00000</td>\n",
       "      <td>1.616544e+06</td>\n",
       "      <td>10.000000</td>\n",
       "      <td>0.000000</td>\n",
       "      <td>14.000000</td>\n",
       "      <td>22.100000</td>\n",
       "      <td>8.025985e+05</td>\n",
       "      <td>0.000000</td>\n",
       "      <td>36.466667</td>\n",
       "      <td>0.000000</td>\n",
       "      <td>0.000000</td>\n",
       "      <td>1.000000</td>\n",
       "      <td>5.225825e+05</td>\n",
       "      <td>3.663485e+05</td>\n",
       "      <td>24146.000000</td>\n",
       "      <td>748.000000</td>\n",
       "    </tr>\n",
       "    <tr>\n",
       "      <th>max</th>\n",
       "      <td>3.00000</td>\n",
       "      <td>1.497561e+07</td>\n",
       "      <td>10.000000</td>\n",
       "      <td>15.000000</td>\n",
       "      <td>48.000000</td>\n",
       "      <td>53.400000</td>\n",
       "      <td>5.448439e+07</td>\n",
       "      <td>15.000000</td>\n",
       "      <td>82.000000</td>\n",
       "      <td>5.000000</td>\n",
       "      <td>13.000000</td>\n",
       "      <td>1.000000</td>\n",
       "      <td>1.000000e+08</td>\n",
       "      <td>6.030087e+06</td>\n",
       "      <td>93555.000000</td>\n",
       "      <td>7480.000000</td>\n",
       "    </tr>\n",
       "  </tbody>\n",
       "</table>\n",
       "</div>"
      ],
      "text/plain": [
       "       Home Ownership  Annual Income  Years in current job    Tax Liens  \\\n",
       "count      2500.00000   2.500000e+03           2500.000000  2500.000000   \n",
       "mean          0.61480   1.365274e+06              5.964400     0.035200   \n",
       "std           0.67246   8.475815e+05              3.581545     0.386291   \n",
       "min           0.00000   1.065330e+05              0.000000     0.000000   \n",
       "25%           0.00000   8.928528e+05              3.000000     0.000000   \n",
       "50%           1.00000   1.208708e+06              6.000000     0.000000   \n",
       "75%           1.00000   1.616544e+06             10.000000     0.000000   \n",
       "max           3.00000   1.497561e+07             10.000000    15.000000   \n",
       "\n",
       "       Number of Open Accounts  Years of Credit History  Maximum Open Credit  \\\n",
       "count              2500.000000              2500.000000         2.500000e+03   \n",
       "mean                 11.184400                18.325920         7.105704e+05   \n",
       "std                   4.852774                 7.254659         1.511983e+06   \n",
       "min                   1.000000                 3.900000         0.000000e+00   \n",
       "25%                   8.000000                13.400000         2.785860e+05   \n",
       "50%                  10.000000                17.000000         4.786760e+05   \n",
       "75%                  14.000000                22.100000         8.025985e+05   \n",
       "max                  48.000000                53.400000         5.448439e+07   \n",
       "\n",
       "       Number of Credit Problems  Months since last delinquent  Bankruptcies  \\\n",
       "count                2500.000000                   2500.000000   2500.000000   \n",
       "mean                    0.162000                     35.756747      0.106800   \n",
       "std                     0.559894                     15.013892      0.356994   \n",
       "min                     0.000000                      0.000000      0.000000   \n",
       "25%                     0.000000                     33.000000      0.000000   \n",
       "50%                     0.000000                     36.466667      0.000000   \n",
       "75%                     0.000000                     36.466667      0.000000   \n",
       "max                    15.000000                     82.000000      5.000000   \n",
       "\n",
       "           Purpose         Term  Current Loan Amount  Current Credit Balance  \\\n",
       "count  2500.000000  2500.000000         2.500000e+03            2.500000e+03   \n",
       "mean      0.534400     0.255600         1.215572e+07            2.963966e+05   \n",
       "std       1.478949     0.436285         3.226097e+07            3.783020e+05   \n",
       "min       0.000000     0.000000         1.542200e+04            0.000000e+00   \n",
       "25%       0.000000     0.000000         1.871265e+05            1.101145e+05   \n",
       "50%       0.000000     0.000000         3.223660e+05            2.073850e+05   \n",
       "75%       0.000000     1.000000         5.225825e+05            3.663485e+05   \n",
       "max      13.000000     1.000000         1.000000e+08            6.030087e+06   \n",
       "\n",
       "       Monthly Debt  Credit Score  \n",
       "count   2500.000000   2500.000000  \n",
       "mean   18271.340000   1248.035360  \n",
       "std    11543.881469   1567.016934  \n",
       "min       93.000000    585.000000  \n",
       "25%    10024.750000    715.333333  \n",
       "50%    16642.500000    734.833333  \n",
       "75%    24146.000000    748.000000  \n",
       "max    93555.000000   7480.000000  "
      ]
     },
     "execution_count": 49,
     "metadata": {},
     "output_type": "execute_result"
    }
   ],
   "source": [
    "df_test.describe()"
   ]
  },
  {
   "cell_type": "code",
   "execution_count": 50,
   "metadata": {},
   "outputs": [],
   "source": [
    "def plot_outliers(df_train, df_test, col_name, hist = False):\n",
    "    fig, ax = plt.subplots(1,3,figsize=(16,5))\n",
    "    #ax[0].set_title(f'KDE for both datasets on {col_name}')\n",
    "    ax[1].set_title('Train Dataset')\n",
    "    ax[2].set_title('Test Dataset')\n",
    "    sns.distplot(df_train[col_name], color='b', ax=ax[0], hist=hist, label='Train')\n",
    "    sns.distplot(df_test[col_name], color='r', ax=ax[0], hist=hist, label='Test')\n",
    "    sns.boxplot(df_train[col_name], ax=ax[1])\n",
    "    sns.boxplot(df_test[col_name], color='r', ax=ax[2])\n",
    "    plt.show()"
   ]
  },
  {
   "cell_type": "code",
   "execution_count": 51,
   "metadata": {},
   "outputs": [
    {
     "data": {
      "image/png": "[encoded data removed]",
      "text/plain": [
       "<Figure size 1152x360 with 3 Axes>"
      ]
     },
     "metadata": {
      "needs_background": "light"
     },
     "output_type": "display_data"
    },
    {
     "name": "stderr",
     "output_type": "stream",
     "text": [
      "C:\\Users\\m.dubrovin\\Anaconda3\\lib\\site-packages\\seaborn\\distributions.py:369: UserWarning: Default bandwidth for data is 0; skipping density estimation.\n",
      "  warnings.warn(msg, UserWarning)\n",
      "C:\\Users\\m.dubrovin\\Anaconda3\\lib\\site-packages\\seaborn\\distributions.py:369: UserWarning: Default bandwidth for data is 0; skipping density estimation.\n",
      "  warnings.warn(msg, UserWarning)\n"
     ]
    },
    {
     "data": {
      "image/png": "[encoded data removed]",
      "text/plain": [
       "<Figure size 1152x360 with 3 Axes>"
      ]
     },
     "metadata": {
      "needs_background": "light"
     },
     "output_type": "display_data"
    },
    {
     "data": {
      "image/png": "[encoded data removed]",
      "text/plain": [
       "<Figure size 1152x360 with 3 Axes>"
      ]
     },
     "metadata": {
      "needs_background": "light"
     },
     "output_type": "display_data"
    },
    {
     "data": {
      "image/png": "[encoded data removed]",
      "text/plain": [
       "<Figure size 1152x360 with 3 Axes>"
      ]
     },
     "metadata": {
      "needs_background": "light"
     },
     "output_type": "display_data"
    },
    {
     "data": {
      "image/png": "[encoded data removed]",
      "text/plain": [
       "<Figure size 1152x360 with 3 Axes>"
      ]
     },
     "metadata": {
      "needs_background": "light"
     },
     "output_type": "display_data"
    },
    {
     "name": "stderr",
     "output_type": "stream",
     "text": [
      "C:\\Users\\m.dubrovin\\Anaconda3\\lib\\site-packages\\seaborn\\distributions.py:369: UserWarning: Default bandwidth for data is 0; skipping density estimation.\n",
      "  warnings.warn(msg, UserWarning)\n",
      "C:\\Users\\m.dubrovin\\Anaconda3\\lib\\site-packages\\seaborn\\distributions.py:369: UserWarning: Default bandwidth for data is 0; skipping density estimation.\n",
      "  warnings.warn(msg, UserWarning)\n"
     ]
    },
    {
     "data": {
      "image/png": "[encoded data removed]",
      "text/plain": [
       "<Figure size 1152x360 with 3 Axes>"
      ]
     },
     "metadata": {
      "needs_background": "light"
     },
     "output_type": "display_data"
    },
    {
     "name": "stderr",
     "output_type": "stream",
     "text": [
      "C:\\Users\\m.dubrovin\\Anaconda3\\lib\\site-packages\\seaborn\\distributions.py:369: UserWarning: Default bandwidth for data is 0; skipping density estimation.\n",
      "  warnings.warn(msg, UserWarning)\n",
      "C:\\Users\\m.dubrovin\\Anaconda3\\lib\\site-packages\\seaborn\\distributions.py:369: UserWarning: Default bandwidth for data is 0; skipping density estimation.\n",
      "  warnings.warn(msg, UserWarning)\n"
     ]
    },
    {
     "data": {
      "image/png": "[encoded data removed]",
      "text/plain": [
       "<Figure size 1152x360 with 3 Axes>"
      ]
     },
     "metadata": {
      "needs_background": "light"
     },
     "output_type": "display_data"
    },
    {
     "data": {
      "image/png": "[encoded data removed]",
      "text/plain": [
       "<Figure size 1152x360 with 3 Axes>"
      ]
     },
     "metadata": {
      "needs_background": "light"
     },
     "output_type": "display_data"
    },
    {
     "data": {
      "image/png": "[encoded data removed]",
      "text/plain": [
       "<Figure size 1152x360 with 3 Axes>"
      ]
     },
     "metadata": {
      "needs_background": "light"
     },
     "output_type": "display_data"
    },
    {
     "data": {
      "image/png": "[encoded data removed]",
      "text/plain": [
       "<Figure size 1152x360 with 3 Axes>"
      ]
     },
     "metadata": {
      "needs_background": "light"
     },
     "output_type": "display_data"
    },
    {
     "data": {
      "image/png": "[encoded data removed]",
      "text/plain": [
       "<Figure size 1152x360 with 3 Axes>"
      ]
     },
     "metadata": {
      "needs_background": "light"
     },
     "output_type": "display_data"
    },
    {
     "data": {
      "image/png": "[encoded data removed]",
      "text/plain": [
       "<Figure size 1152x360 with 3 Axes>"
      ]
     },
     "metadata": {
      "needs_background": "light"
     },
     "output_type": "display_data"
    }
   ],
   "source": [
    "for col in NUM_FEATURE_NAMES:\n",
    "    plot_outliers(df_train, df_test,col)"
   ]
  },
  {
   "cell_type": "code",
   "execution_count": 52,
   "metadata": {},
   "outputs": [],
   "source": [
    "#df_train['ID'] = df_train.index\n",
    "#df_test['ID'] = df_test.index"
   ]
  },
  {
   "cell_type": "code",
   "execution_count": 53,
   "metadata": {},
   "outputs": [],
   "source": [
    "list_extraX=[]\n",
    "list_extraX += np.where(df_train.loc[df_train['Current Loan Amount'].values>999998])[1].tolist() \n",
    "list_extraX = set(list_extraX )"
   ]
  },
  {
   "cell_type": "code",
   "execution_count": 54,
   "metadata": {},
   "outputs": [
    {
     "data": {
      "text/plain": [
       "{0, 1, 2, 3, 4, 5, 6, 7, 8, 9, 10, 11, 12, 13, 14, 15}"
      ]
     },
     "execution_count": 54,
     "metadata": {},
     "output_type": "execute_result"
    }
   ],
   "source": [
    "list_extraX"
   ]
  },
  {
   "cell_type": "code",
   "execution_count": 55,
   "metadata": {},
   "outputs": [
    {
     "name": "stdout",
     "output_type": "stream",
     "text": [
      "(7484, 17)\n"
     ]
    }
   ],
   "source": [
    "#Удаление выбросов\n",
    "\n",
    "df_train.drop(index=list_extraX , axis=0, inplace=True)\n",
    "print(df_train.shape)"
   ]
  },
  {
   "cell_type": "code",
   "execution_count": 56,
   "metadata": {},
   "outputs": [],
   "source": [
    "from sklearn.preprocessing import StandardScaler"
   ]
  },
  {
   "cell_type": "code",
   "execution_count": 57,
   "metadata": {},
   "outputs": [],
   "source": [
    "scaler = StandardScaler()\n",
    "\n",
    "df_norm = df_test.copy()\n",
    "df_norm[NUM_FEATURE_NAMES] = scaler.fit_transform(df_norm[NUM_FEATURE_NAMES])\n",
    "df_test = df_norm.copy()\n",
    "\n",
    "df_norm = df_train.copy()\n",
    "df_norm[NUM_FEATURE_NAMES] = scaler.fit_transform(df_norm[NUM_FEATURE_NAMES])\n",
    "\n",
    "df = df_norm.copy()"
   ]
  },
  {
   "cell_type": "code",
   "execution_count": 58,
   "metadata": {},
   "outputs": [],
   "source": [
    "from sklearn.model_selection import train_test_split"
   ]
  },
  {
   "cell_type": "code",
   "execution_count": 59,
   "metadata": {},
   "outputs": [],
   "source": [
    "X = df[SELECTED_FEATURE_NAMES]\n",
    "y = df[TARGET_NAME]\n",
    "\n",
    "X_train, X_test, y_train, y_test = train_test_split(X, y, shuffle=True, test_size=0.30, random_state=21)"
   ]
  },
  {
   "cell_type": "code",
   "execution_count": 60,
   "metadata": {},
   "outputs": [],
   "source": [
    "def balance_df_by_target(df, target_name):\n",
    "\n",
    "    target_counts = df[target_name].value_counts()\n",
    "\n",
    "    major_class_name = target_counts.argmax()\n",
    "    minor_class_name = target_counts.argmin()\n",
    "\n",
    "    disbalance_coeff = int(target_counts[major_class_name] / target_counts[minor_class_name]) - 1\n",
    "\n",
    "    for i in range(disbalance_coeff):\n",
    "        sample = df[df[target_name] == minor_class_name].sample(target_counts[minor_class_name])\n",
    "        df = df.append(sample, ignore_index=True)\n",
    "\n",
    "    return df.sample(frac=1) "
   ]
  },
  {
   "cell_type": "code",
   "execution_count": 61,
   "metadata": {},
   "outputs": [
    {
     "data": {
      "text/plain": [
       "0    3755\n",
       "1    2966\n",
       "Name: Credit Default, dtype: int64"
      ]
     },
     "execution_count": 61,
     "metadata": {},
     "output_type": "execute_result"
    }
   ],
   "source": [
    "df_for_balancing = pd.concat([X_train, y_train], axis=1)\n",
    "df_balanced = balance_df_by_target(df_for_balancing, TARGET_NAME)\n",
    "    \n",
    "df_balanced[TARGET_NAME].value_counts()"
   ]
  },
  {
   "cell_type": "code",
   "execution_count": 62,
   "metadata": {},
   "outputs": [],
   "source": [
    "X_train = df_balanced.drop(columns=TARGET_NAME)\n",
    "y_train = df_balanced[TARGET_NAME]"
   ]
  },
  {
   "cell_type": "code",
   "execution_count": 63,
   "metadata": {},
   "outputs": [
    {
     "data": {
      "text/html": [
       "<div>\n",
       "<style scoped>\n",
       "    .dataframe tbody tr th:only-of-type {\n",
       "        vertical-align: middle;\n",
       "    }\n",
       "\n",
       "    .dataframe tbody tr th {\n",
       "        vertical-align: top;\n",
       "    }\n",
       "\n",
       "    .dataframe thead th {\n",
       "        text-align: right;\n",
       "    }\n",
       "</style>\n",
       "<table border=\"1\" class=\"dataframe\">\n",
       "  <thead>\n",
       "    <tr style=\"text-align: right;\">\n",
       "      <th></th>\n",
       "      <th>Annual Income</th>\n",
       "      <th>Tax Liens</th>\n",
       "      <th>Number of Open Accounts</th>\n",
       "      <th>Years of Credit History</th>\n",
       "      <th>Maximum Open Credit</th>\n",
       "      <th>Number of Credit Problems</th>\n",
       "      <th>Bankruptcies</th>\n",
       "      <th>Current Loan Amount</th>\n",
       "      <th>Current Credit Balance</th>\n",
       "      <th>Monthly Debt</th>\n",
       "      <th>Credit Score</th>\n",
       "      <th>Months since last delinquent</th>\n",
       "      <th>Home Ownership</th>\n",
       "      <th>Years in current job</th>\n",
       "      <th>Purpose</th>\n",
       "      <th>Term</th>\n",
       "    </tr>\n",
       "  </thead>\n",
       "  <tbody>\n",
       "    <tr>\n",
       "      <th>1354</th>\n",
       "      <td>0.101031</td>\n",
       "      <td>-0.111073</td>\n",
       "      <td>-0.637381</td>\n",
       "      <td>-0.811646</td>\n",
       "      <td>-0.041302</td>\n",
       "      <td>-0.340556</td>\n",
       "      <td>-0.336775</td>\n",
       "      <td>-0.361198</td>\n",
       "      <td>-0.429423</td>\n",
       "      <td>0.309289</td>\n",
       "      <td>-0.235701</td>\n",
       "      <td>-0.257301</td>\n",
       "      <td>1</td>\n",
       "      <td>5.0</td>\n",
       "      <td>0</td>\n",
       "      <td>0</td>\n",
       "    </tr>\n",
       "    <tr>\n",
       "      <th>2330</th>\n",
       "      <td>-0.270806</td>\n",
       "      <td>3.567128</td>\n",
       "      <td>2.823240</td>\n",
       "      <td>1.758035</td>\n",
       "      <td>-0.047000</td>\n",
       "      <td>3.670018</td>\n",
       "      <td>-0.336775</td>\n",
       "      <td>-0.370958</td>\n",
       "      <td>-0.665507</td>\n",
       "      <td>0.054433</td>\n",
       "      <td>-0.223897</td>\n",
       "      <td>-0.257301</td>\n",
       "      <td>1</td>\n",
       "      <td>10.0</td>\n",
       "      <td>0</td>\n",
       "      <td>0</td>\n",
       "    </tr>\n",
       "    <tr>\n",
       "      <th>4663</th>\n",
       "      <td>-0.673500</td>\n",
       "      <td>-0.111073</td>\n",
       "      <td>0.176883</td>\n",
       "      <td>-0.754857</td>\n",
       "      <td>-0.009480</td>\n",
       "      <td>-0.340556</td>\n",
       "      <td>-0.336775</td>\n",
       "      <td>-0.364908</td>\n",
       "      <td>-0.713645</td>\n",
       "      <td>-0.898407</td>\n",
       "      <td>-0.235701</td>\n",
       "      <td>-0.257301</td>\n",
       "      <td>1</td>\n",
       "      <td>3.0</td>\n",
       "      <td>2</td>\n",
       "      <td>0</td>\n",
       "    </tr>\n",
       "    <tr>\n",
       "      <th>5194</th>\n",
       "      <td>-0.297365</td>\n",
       "      <td>-0.111073</td>\n",
       "      <td>0.380449</td>\n",
       "      <td>-0.371535</td>\n",
       "      <td>-0.035062</td>\n",
       "      <td>-0.340556</td>\n",
       "      <td>-0.336775</td>\n",
       "      <td>-0.364319</td>\n",
       "      <td>-0.161944</td>\n",
       "      <td>-0.141049</td>\n",
       "      <td>4.358816</td>\n",
       "      <td>1.929040</td>\n",
       "      <td>0</td>\n",
       "      <td>7.0</td>\n",
       "      <td>0</td>\n",
       "      <td>0</td>\n",
       "    </tr>\n",
       "    <tr>\n",
       "      <th>5303</th>\n",
       "      <td>-1.017581</td>\n",
       "      <td>-0.111073</td>\n",
       "      <td>0.584014</td>\n",
       "      <td>0.593870</td>\n",
       "      <td>-0.044706</td>\n",
       "      <td>1.664731</td>\n",
       "      <td>2.547004</td>\n",
       "      <td>-0.365953</td>\n",
       "      <td>-0.684703</td>\n",
       "      <td>-0.241935</td>\n",
       "      <td>-0.256531</td>\n",
       "      <td>-1.845001</td>\n",
       "      <td>0</td>\n",
       "      <td>10.0</td>\n",
       "      <td>0</td>\n",
       "      <td>0</td>\n",
       "    </tr>\n",
       "    <tr>\n",
       "      <th>...</th>\n",
       "      <td>...</td>\n",
       "      <td>...</td>\n",
       "      <td>...</td>\n",
       "      <td>...</td>\n",
       "      <td>...</td>\n",
       "      <td>...</td>\n",
       "      <td>...</td>\n",
       "      <td>...</td>\n",
       "      <td>...</td>\n",
       "      <td>...</td>\n",
       "      <td>...</td>\n",
       "      <td>...</td>\n",
       "      <td>...</td>\n",
       "      <td>...</td>\n",
       "      <td>...</td>\n",
       "      <td>...</td>\n",
       "    </tr>\n",
       "    <tr>\n",
       "      <th>726</th>\n",
       "      <td>0.754063</td>\n",
       "      <td>-0.111073</td>\n",
       "      <td>0.176883</td>\n",
       "      <td>0.806827</td>\n",
       "      <td>-0.033222</td>\n",
       "      <td>1.664731</td>\n",
       "      <td>2.547004</td>\n",
       "      <td>-0.361451</td>\n",
       "      <td>-0.554162</td>\n",
       "      <td>-0.036809</td>\n",
       "      <td>-0.221119</td>\n",
       "      <td>-0.218259</td>\n",
       "      <td>0</td>\n",
       "      <td>10.0</td>\n",
       "      <td>0</td>\n",
       "      <td>0</td>\n",
       "    </tr>\n",
       "    <tr>\n",
       "      <th>1044</th>\n",
       "      <td>1.486866</td>\n",
       "      <td>-0.111073</td>\n",
       "      <td>0.991146</td>\n",
       "      <td>1.985189</td>\n",
       "      <td>-0.024022</td>\n",
       "      <td>-0.340556</td>\n",
       "      <td>-0.336775</td>\n",
       "      <td>-0.360375</td>\n",
       "      <td>0.486271</td>\n",
       "      <td>2.774831</td>\n",
       "      <td>-0.240422</td>\n",
       "      <td>-0.257301</td>\n",
       "      <td>0</td>\n",
       "      <td>10.0</td>\n",
       "      <td>0</td>\n",
       "      <td>1</td>\n",
       "    </tr>\n",
       "    <tr>\n",
       "      <th>6668</th>\n",
       "      <td>-0.677075</td>\n",
       "      <td>-0.111073</td>\n",
       "      <td>-1.044513</td>\n",
       "      <td>-0.896828</td>\n",
       "      <td>-0.040508</td>\n",
       "      <td>-0.340556</td>\n",
       "      <td>-0.336775</td>\n",
       "      <td>-0.364099</td>\n",
       "      <td>-0.525997</td>\n",
       "      <td>-0.942434</td>\n",
       "      <td>-0.268335</td>\n",
       "      <td>0.237228</td>\n",
       "      <td>0</td>\n",
       "      <td>4.0</td>\n",
       "      <td>0</td>\n",
       "      <td>1</td>\n",
       "    </tr>\n",
       "    <tr>\n",
       "      <th>4527</th>\n",
       "      <td>0.619853</td>\n",
       "      <td>-0.111073</td>\n",
       "      <td>0.176883</td>\n",
       "      <td>-1.180771</td>\n",
       "      <td>-0.038684</td>\n",
       "      <td>-0.340556</td>\n",
       "      <td>-0.336775</td>\n",
       "      <td>-0.351942</td>\n",
       "      <td>-0.558528</td>\n",
       "      <td>0.662851</td>\n",
       "      <td>3.907488</td>\n",
       "      <td>-0.673747</td>\n",
       "      <td>0</td>\n",
       "      <td>5.0</td>\n",
       "      <td>0</td>\n",
       "      <td>1</td>\n",
       "    </tr>\n",
       "    <tr>\n",
       "      <th>6113</th>\n",
       "      <td>1.081325</td>\n",
       "      <td>-0.111073</td>\n",
       "      <td>-0.433815</td>\n",
       "      <td>3.603662</td>\n",
       "      <td>-0.042754</td>\n",
       "      <td>-0.340556</td>\n",
       "      <td>-0.336775</td>\n",
       "      <td>-0.350768</td>\n",
       "      <td>-0.662697</td>\n",
       "      <td>0.114310</td>\n",
       "      <td>-0.310690</td>\n",
       "      <td>-1.064165</td>\n",
       "      <td>0</td>\n",
       "      <td>10.0</td>\n",
       "      <td>0</td>\n",
       "      <td>1</td>\n",
       "    </tr>\n",
       "  </tbody>\n",
       "</table>\n",
       "<p>6721 rows × 16 columns</p>\n",
       "</div>"
      ],
      "text/plain": [
       "      Annual Income  Tax Liens  Number of Open Accounts  \\\n",
       "1354       0.101031  -0.111073                -0.637381   \n",
       "2330      -0.270806   3.567128                 2.823240   \n",
       "4663      -0.673500  -0.111073                 0.176883   \n",
       "5194      -0.297365  -0.111073                 0.380449   \n",
       "5303      -1.017581  -0.111073                 0.584014   \n",
       "...             ...        ...                      ...   \n",
       "726        0.754063  -0.111073                 0.176883   \n",
       "1044       1.486866  -0.111073                 0.991146   \n",
       "6668      -0.677075  -0.111073                -1.044513   \n",
       "4527       0.619853  -0.111073                 0.176883   \n",
       "6113       1.081325  -0.111073                -0.433815   \n",
       "\n",
       "      Years of Credit History  Maximum Open Credit  Number of Credit Problems  \\\n",
       "1354                -0.811646            -0.041302                  -0.340556   \n",
       "2330                 1.758035            -0.047000                   3.670018   \n",
       "4663                -0.754857            -0.009480                  -0.340556   \n",
       "5194                -0.371535            -0.035062                  -0.340556   \n",
       "5303                 0.593870            -0.044706                   1.664731   \n",
       "...                       ...                  ...                        ...   \n",
       "726                  0.806827            -0.033222                   1.664731   \n",
       "1044                 1.985189            -0.024022                  -0.340556   \n",
       "6668                -0.896828            -0.040508                  -0.340556   \n",
       "4527                -1.180771            -0.038684                  -0.340556   \n",
       "6113                 3.603662            -0.042754                  -0.340556   \n",
       "\n",
       "      Bankruptcies  Current Loan Amount  Current Credit Balance  Monthly Debt  \\\n",
       "1354     -0.336775            -0.361198               -0.429423      0.309289   \n",
       "2330     -0.336775            -0.370958               -0.665507      0.054433   \n",
       "4663     -0.336775            -0.364908               -0.713645     -0.898407   \n",
       "5194     -0.336775            -0.364319               -0.161944     -0.141049   \n",
       "5303      2.547004            -0.365953               -0.684703     -0.241935   \n",
       "...            ...                  ...                     ...           ...   \n",
       "726       2.547004            -0.361451               -0.554162     -0.036809   \n",
       "1044     -0.336775            -0.360375                0.486271      2.774831   \n",
       "6668     -0.336775            -0.364099               -0.525997     -0.942434   \n",
       "4527     -0.336775            -0.351942               -0.558528      0.662851   \n",
       "6113     -0.336775            -0.350768               -0.662697      0.114310   \n",
       "\n",
       "      Credit Score  Months since last delinquent Home Ownership  \\\n",
       "1354     -0.235701                     -0.257301              1   \n",
       "2330     -0.223897                     -0.257301              1   \n",
       "4663     -0.235701                     -0.257301              1   \n",
       "5194      4.358816                      1.929040              0   \n",
       "5303     -0.256531                     -1.845001              0   \n",
       "...            ...                           ...            ...   \n",
       "726      -0.221119                     -0.218259              0   \n",
       "1044     -0.240422                     -0.257301              0   \n",
       "6668     -0.268335                      0.237228              0   \n",
       "4527      3.907488                     -0.673747              0   \n",
       "6113     -0.310690                     -1.064165              0   \n",
       "\n",
       "     Years in current job Purpose Term  \n",
       "1354                  5.0       0    0  \n",
       "2330                 10.0       0    0  \n",
       "4663                  3.0       2    0  \n",
       "5194                  7.0       0    0  \n",
       "5303                 10.0       0    0  \n",
       "...                   ...     ...  ...  \n",
       "726                  10.0       0    0  \n",
       "1044                 10.0       0    1  \n",
       "6668                  4.0       0    1  \n",
       "4527                  5.0       0    1  \n",
       "6113                 10.0       0    1  \n",
       "\n",
       "[6721 rows x 16 columns]"
      ]
     },
     "execution_count": 63,
     "metadata": {},
     "output_type": "execute_result"
    }
   ],
   "source": [
    "X_train"
   ]
  },
  {
   "cell_type": "code",
   "execution_count": 64,
   "metadata": {},
   "outputs": [],
   "source": [
    "#train = pd.concat([X_train, y_train], axis=1)\n",
    "#test = pd.concat([X_test, y_test], axis=1)"
   ]
  },
  {
   "cell_type": "code",
   "execution_count": 65,
   "metadata": {},
   "outputs": [],
   "source": [
    "#df.to_csv(TRAIN_FULL_PATH, index=False, encoding='utf-8')\n",
    "#train.to_csv(TRAIN_PART_PATH, index=False, encoding='utf-8')\n",
    "#test.to_csv(TEST_PART_PATH, index=False, encoding='utf-8')"
   ]
  },
  {
   "cell_type": "code",
   "execution_count": 66,
   "metadata": {},
   "outputs": [
    {
     "name": "stdout",
     "output_type": "stream",
     "text": [
      "TRAIN\n",
      "\n",
      "              precision    recall  f1-score   support\n",
      "\n",
      "           0       0.68      0.83      0.75      3755\n",
      "           1       0.70      0.51      0.59      2966\n",
      "\n",
      "    accuracy                           0.69      6721\n",
      "   macro avg       0.69      0.67      0.67      6721\n",
      "weighted avg       0.69      0.69      0.68      6721\n",
      "\n",
      "TEST\n",
      "\n",
      "              precision    recall  f1-score   support\n",
      "\n",
      "           0       0.81      0.83      0.82      1621\n",
      "           1       0.53      0.50      0.52       625\n",
      "\n",
      "    accuracy                           0.74      2246\n",
      "   macro avg       0.67      0.67      0.67      2246\n",
      "weighted avg       0.73      0.74      0.74      2246\n",
      "\n",
      "CONFUSION MATRIX\n",
      "\n",
      "col_0              0    1\n",
      "Credit Default           \n",
      "0               1344  277\n",
      "1                310  315\n"
     ]
    },
    {
     "name": "stderr",
     "output_type": "stream",
     "text": [
      "C:\\Users\\m.dubrovin\\Anaconda3\\lib\\site-packages\\sklearn\\linear_model\\_logistic.py:762: ConvergenceWarning: lbfgs failed to converge (status=1):\n",
      "STOP: TOTAL NO. of ITERATIONS REACHED LIMIT.\n",
      "\n",
      "Increase the number of iterations (max_iter) or scale the data as shown in:\n",
      "    https://scikit-learn.org/stable/modules/preprocessing.html\n",
      "Please also refer to the documentation for alternative solver options:\n",
      "    https://scikit-learn.org/stable/modules/linear_model.html#logistic-regression\n",
      "  n_iter_i = _check_optimize_result(\n"
     ]
    }
   ],
   "source": [
    "model_lr = LogisticRegression()\n",
    "model_lr.fit(X_train, y_train)\n",
    "\n",
    "y_train_pred = model_lr.predict(X_train)\n",
    "y_test_pred = model_lr.predict(X_test)\n",
    "\n",
    "get_classification_report(y_train, y_train_pred, y_test, y_test_pred)"
   ]
  },
  {
   "cell_type": "code",
   "execution_count": 67,
   "metadata": {
    "scrolled": true
   },
   "outputs": [
    {
     "name": "stdout",
     "output_type": "stream",
     "text": [
      "TRAIN\n",
      "\n",
      "              precision    recall  f1-score   support\n",
      "\n",
      "           0       0.78      0.85      0.81      3755\n",
      "           1       0.79      0.70      0.74      2966\n",
      "\n",
      "    accuracy                           0.78      6721\n",
      "   macro avg       0.78      0.77      0.78      6721\n",
      "weighted avg       0.78      0.78      0.78      6721\n",
      "\n",
      "TEST\n",
      "\n",
      "              precision    recall  f1-score   support\n",
      "\n",
      "           0       0.78      0.77      0.78      1621\n",
      "           1       0.43      0.44      0.44       625\n",
      "\n",
      "    accuracy                           0.68      2246\n",
      "   macro avg       0.61      0.61      0.61      2246\n",
      "weighted avg       0.68      0.68      0.68      2246\n",
      "\n",
      "CONFUSION MATRIX\n",
      "\n",
      "col_0              0    1\n",
      "Credit Default           \n",
      "0               1251  370\n",
      "1                348  277\n"
     ]
    }
   ],
   "source": [
    "model_knn = KNeighborsClassifier()\n",
    "model_knn.fit(X_train, y_train)\n",
    "\n",
    "y_train_pred = model_knn.predict(X_train)\n",
    "y_test_pred = model_knn.predict(X_test)\n",
    "\n",
    "get_classification_report(y_train, y_train_pred, y_test, y_test_pred)"
   ]
  },
  {
   "cell_type": "code",
   "execution_count": 68,
   "metadata": {},
   "outputs": [],
   "source": [
    "from sklearn.linear_model import LogisticRegression\n",
    "from sklearn.neighbors import KNeighborsClassifier\n",
    "import xgboost as xgb, lightgbm as lgbm, catboost as catb\n",
    "\n",
    "import seaborn as sns\n",
    "from matplotlib import pyplot as plt\n",
    "%matplotlib inline"
   ]
  },
  {
   "cell_type": "code",
   "execution_count": 70,
   "metadata": {},
   "outputs": [
    {
     "name": "stdout",
     "output_type": "stream",
     "text": [
      "TRAIN\n",
      "\n",
      "              precision    recall  f1-score   support\n",
      "\n",
      "           0       0.95      0.97      0.96      3755\n",
      "           1       0.96      0.94      0.95      2966\n",
      "\n",
      "    accuracy                           0.95      6721\n",
      "   macro avg       0.95      0.95      0.95      6721\n",
      "weighted avg       0.95      0.95      0.95      6721\n",
      "\n",
      "TEST\n",
      "\n",
      "              precision    recall  f1-score   support\n",
      "\n",
      "           0       0.86      0.87      0.86      1621\n",
      "           1       0.65      0.64      0.64       625\n",
      "\n",
      "    accuracy                           0.80      2246\n",
      "   macro avg       0.76      0.75      0.75      2246\n",
      "weighted avg       0.80      0.80      0.80      2246\n",
      "\n",
      "CONFUSION MATRIX\n",
      "\n",
      "col_0              0    1\n",
      "Credit Default           \n",
      "0               1406  215\n",
      "1                226  399\n"
     ]
    }
   ],
   "source": [
    "#model_catb_ = catb.CatBoostClassifier(silent=True, random_state=21, cat_features=CAT_FEATURE_NAMES )\n",
    "model_catb = catb.CatBoostClassifier(class_weights=[1, 1.27], silent=True, random_state=21)\n",
    "model_catb.fit(X_train, y_train)\n",
    "\n",
    "y_train_pred = model_catb.predict(X_train)\n",
    "y_test_pred = model_catb.predict(X_test)\n",
    "\n",
    "get_classification_report(y_train, y_train_pred, y_test, y_test_pred)"
   ]
  },
  {
   "cell_type": "code",
   "execution_count": 72,
   "metadata": {},
   "outputs": [],
   "source": [
    "params = {'n_estimators':[200,500,1000],\n",
    "          'max_depth':[6, 7, 8]}"
   ]
  },
  {
   "cell_type": "code",
   "execution_count": 73,
   "metadata": {},
   "outputs": [],
   "source": [
    "cv=KFold(n_splits=3, random_state=21, shuffle=True)"
   ]
  },
  {
   "cell_type": "code",
   "execution_count": 74,
   "metadata": {},
   "outputs": [
    {
     "name": "stderr",
     "output_type": "stream",
     "text": [
      "C:\\Users\\m.dubrovin\\Anaconda3\\lib\\site-packages\\sklearn\\model_selection\\_search.py:278: UserWarning: The total space of parameters 9 is smaller than n_iter=10. Running 9 iterations. For exhaustive searches, use GridSearchCV.\n",
      "  warnings.warn(\n"
     ]
    },
    {
     "name": "stdout",
     "output_type": "stream",
     "text": [
      "Wall time: 2min 56s\n"
     ]
    },
    {
     "data": {
      "text/plain": [
       "RandomizedSearchCV(cv=KFold(n_splits=3, random_state=21, shuffle=True),\n",
       "                   estimator=<catboost.core.CatBoostClassifier object at 0x00000200316FE490>,\n",
       "                   n_jobs=-1,\n",
       "                   param_distributions={'max_depth': [6, 7, 8],\n",
       "                                        'n_estimators': [200, 500, 1000]},\n",
       "                   scoring='f1')"
      ]
     },
     "execution_count": 74,
     "metadata": {},
     "output_type": "execute_result"
    }
   ],
   "source": [
    "%%time\n",
    "\n",
    "rs = RandomizedSearchCV(model_catb, params, scoring='f1', cv=cv, n_jobs=-1)\n",
    "rs.fit(X, y)"
   ]
  },
  {
   "cell_type": "code",
   "execution_count": 75,
   "metadata": {},
   "outputs": [
    {
     "data": {
      "text/plain": [
       "{'n_estimators': 500, 'max_depth': 6}"
      ]
     },
     "execution_count": 75,
     "metadata": {},
     "output_type": "execute_result"
    }
   ],
   "source": [
    "rs.best_params_"
   ]
  },
  {
   "cell_type": "code",
   "execution_count": 76,
   "metadata": {},
   "outputs": [
    {
     "data": {
      "text/plain": [
       "0.6420372496824817"
      ]
     },
     "execution_count": 76,
     "metadata": {},
     "output_type": "execute_result"
    }
   ],
   "source": [
    "rs.best_score_"
   ]
  },
  {
   "cell_type": "code",
   "execution_count": 77,
   "metadata": {},
   "outputs": [
    {
     "name": "stdout",
     "output_type": "stream",
     "text": [
      "TRAIN\n",
      "\n",
      "              precision    recall  f1-score   support\n",
      "\n",
      "           0       0.89      0.92      0.91      3755\n",
      "           1       0.90      0.86      0.88      2966\n",
      "\n",
      "    accuracy                           0.90      6721\n",
      "   macro avg       0.90      0.89      0.89      6721\n",
      "weighted avg       0.90      0.90      0.90      6721\n",
      "\n",
      "TEST\n",
      "\n",
      "              precision    recall  f1-score   support\n",
      "\n",
      "           0       0.87      0.86      0.86      1621\n",
      "           1       0.64      0.67      0.66       625\n",
      "\n",
      "    accuracy                           0.80      2246\n",
      "   macro avg       0.76      0.76      0.76      2246\n",
      "weighted avg       0.81      0.80      0.81      2246\n",
      "\n",
      "CONFUSION MATRIX\n",
      "\n",
      "col_0              0    1\n",
      "Credit Default           \n",
      "0               1390  231\n",
      "1                208  417\n"
     ]
    }
   ],
   "source": [
    "final_model = catb.CatBoostClassifier(n_estimators=500, max_depth=6,\n",
    "                                      l2_leaf_reg=10,\n",
    "                                      silent=True,class_weights=[1, 1.23])\n",
    "final_model.fit(X_train, y_train)\n",
    "\n",
    "y_train_pred = final_model.predict(X_train)\n",
    "y_test_pred = final_model.predict(X_test)\n",
    "y_test_pred_probs = final_model.predict_proba(X_test)\n",
    "\n",
    "get_classification_report(y_train, y_train_pred, y_test, y_test_pred)"
   ]
  },
  {
   "cell_type": "code",
   "execution_count": 78,
   "metadata": {},
   "outputs": [],
   "source": [
    "def show_learning_curve_plot(estimator, X, y, cv=3, n_jobs=-1, train_sizes=np.linspace(.1, 1.0, 5)):\n",
    "\n",
    "    train_sizes, train_scores, test_scores = learning_curve(estimator, X, y, \n",
    "                                                            cv=cv, \n",
    "                                                            scoring='f1',\n",
    "                                                            train_sizes=train_sizes, \n",
    "                                                            n_jobs=n_jobs)\n",
    "    train_scores_mean = np.mean(train_scores, axis=1)\n",
    "    train_scores_std = np.std(train_scores, axis=1)\n",
    "    test_scores_mean = np.mean(test_scores, axis=1)\n",
    "    test_scores_std = np.std(test_scores, axis=1)\n",
    "\n",
    "    plt.figure(figsize=(15,8))\n",
    "    plt.fill_between(train_sizes, train_scores_mean - train_scores_std,\n",
    "                     train_scores_mean + train_scores_std, alpha=0.1, color=\"r\")\n",
    "    plt.fill_between(train_sizes, test_scores_mean - test_scores_std,\n",
    "                     test_scores_mean + test_scores_std, alpha=0.1, color=\"g\")\n",
    "    plt.plot(train_sizes, train_scores_mean, 'o-', color=\"r\",\n",
    "             label=\"Training score\")\n",
    "    plt.plot(train_sizes, test_scores_mean, 'o-', color=\"g\",\n",
    "             label=\"Cross-validation score\")\n",
    "\n",
    "    plt.title(f\"Learning curves ({type(estimator).__name__})\")\n",
    "    plt.xlabel(\"Training examples\")\n",
    "    plt.ylabel(\"Score\")     \n",
    "    plt.legend(loc=\"best\")\n",
    "    plt.grid()\n",
    "    plt.show()"
   ]
  },
  {
   "cell_type": "code",
   "execution_count": 79,
   "metadata": {},
   "outputs": [
    {
     "data": {
      "image/png": "[encoded data removed]",
      "text/plain": [
       "<Figure size 1080x576 with 1 Axes>"
      ]
     },
     "metadata": {
      "needs_background": "light"
     },
     "output_type": "display_data"
    }
   ],
   "source": [
    "show_learning_curve_plot(final_model, X, y)"
   ]
  },
  {
   "cell_type": "code",
   "execution_count": 82,
   "metadata": {},
   "outputs": [],
   "source": [
    "def show_proba_calibration_plots(y_predicted_probs, y_true_labels):\n",
    "    preds_with_true_labels = np.array(list(zip(y_predicted_probs, y_true_labels)))\n",
    "\n",
    "    thresholds = []\n",
    "    precisions = []\n",
    "    recalls = []\n",
    "    f1_scores = []\n",
    "\n",
    "    for threshold in np.linspace(0.4, 0.7, 15):\n",
    "        thresholds.append(threshold)\n",
    "        precisions.append(precision_score(y_true_labels, list(map(int, y_predicted_probs > threshold))))\n",
    "        recalls.append(recall_score(y_true_labels, list(map(int, y_predicted_probs > threshold))))\n",
    "        f1_scores.append(f1_score(y_true_labels, list(map(int, y_predicted_probs > threshold))))\n",
    "\n",
    "    scores_table = pd.DataFrame({'f1':f1_scores,\n",
    "                                 'precision':precisions,\n",
    "                                 'recall':recalls,\n",
    "                                 'probability':thresholds}).sort_values('f1', ascending=False).round(3)\n",
    "  \n",
    "    figure = plt.figure(figsize = (15, 5))\n",
    "\n",
    "    plt1 = figure.add_subplot(121)\n",
    "    plt1.plot(thresholds, precisions, label='Precision', linewidth=4)\n",
    "    plt1.plot(thresholds, recalls, label='Recall', linewidth=4)\n",
    "    plt1.plot(thresholds, f1_scores, label='F1', linewidth=4)\n",
    "    plt1.set_ylabel('Scores')\n",
    "    plt1.set_xlabel('Probability threshold')\n",
    "    plt1.set_title('Probabilities threshold calibration')\n",
    "    plt1.legend(bbox_to_anchor=(0.25, 0.25))   \n",
    "    plt1.table(cellText = scores_table.values,\n",
    "               colLabels = scores_table.columns, \n",
    "               colLoc = 'center', cellLoc = 'center', loc = 'bottom', bbox = [0, -1.3, 1, 1])\n",
    "\n",
    "    plt2 = figure.add_subplot(122)\n",
    "    plt2.hist(preds_with_true_labels[preds_with_true_labels[:, 1] == 0][:, 0], \n",
    "              label='Another class', color='royalblue', alpha=1)\n",
    "    plt2.hist(preds_with_true_labels[preds_with_true_labels[:, 1] == 1][:, 0], \n",
    "              label='Main class', color='darkcyan', alpha=0.8)\n",
    "    plt2.set_ylabel('Number of examples')\n",
    "    plt2.set_xlabel('Probabilities')\n",
    "    plt2.set_title('Probability histogram')\n",
    "    plt2.legend(bbox_to_anchor=(1, 1))\n",
    "\n",
    "    plt.show()"
   ]
  },
  {
   "cell_type": "code",
   "execution_count": 83,
   "metadata": {},
   "outputs": [
    {
     "data": {
      "image/png": "[encoded data removed]",
      "text/plain": [
       "<Figure size 1080x360 with 2 Axes>"
      ]
     },
     "metadata": {
      "needs_background": "light"
     },
     "output_type": "display_data"
    }
   ],
   "source": [
    "show_proba_calibration_plots(y_test_pred_probs[:, 1], y_test)"
   ]
  },
  {
   "cell_type": "code",
   "execution_count": 84,
   "metadata": {},
   "outputs": [],
   "source": [
    "threshold_prob = 0.593"
   ]
  },
  {
   "cell_type": "code",
   "execution_count": 85,
   "metadata": {
    "scrolled": true
   },
   "outputs": [
    {
     "name": "stdout",
     "output_type": "stream",
     "text": [
      "              precision    recall  f1-score   support\n",
      "\n",
      "           0       0.85      1.00      0.92      5376\n",
      "           1       0.99      0.56      0.72      2108\n",
      "\n",
      "    accuracy                           0.88      7484\n",
      "   macro avg       0.92      0.78      0.82      7484\n",
      "weighted avg       0.89      0.88      0.86      7484\n",
      "\n"
     ]
    }
   ],
   "source": [
    "final_model = catb.CatBoostClassifier(n_estimators=1000, max_depth=5,\n",
    "                                      l2_leaf_reg=10,\n",
    "                                      silent=True,class_weights=[1, 1.2])\n",
    "final_model.fit(X.iloc[:,:], y)\n",
    "\n",
    "y_test_pred_probs = final_model.predict_proba(X.iloc[:,:])\n",
    "predict_train = np.array([1 if x>=threshold_prob else 0 for x in y_test_pred_probs[:,1]])\n",
    "\n",
    "print(classification_report(y,predict_train))"
   ]
  },
  {
   "cell_type": "code",
   "execution_count": 86,
   "metadata": {},
   "outputs": [
    {
     "name": "stdout",
     "output_type": "stream",
     "text": [
      "(2500, 1)\n"
     ]
    }
   ],
   "source": [
    "# 4.3. Генерация  и  экспорт прогноза\n",
    "y_pred_probas = final_model.predict_proba(df_test[SELECTED_FEATURE_NAMES].iloc[:,:])\n",
    "y_pred = np.array([1 if x>=threshold_prob else 0 for x in y_pred_probas[:,1]])\n",
    "y_pred = pd.DataFrame(y_pred, columns=['NEXT_MONTH_DEFAULT'])\n",
    "\n",
    "print(y_pred.shape)"
   ]
  },
  {
   "cell_type": "code",
   "execution_count": 87,
   "metadata": {},
   "outputs": [],
   "source": [
    "y_pred['ID'] = y_pred.index"
   ]
  },
  {
   "cell_type": "code",
   "execution_count": 88,
   "metadata": {},
   "outputs": [],
   "source": [
    "y_pred = y_pred[['ID','NEXT_MONTH_DEFAULT']]"
   ]
  },
  {
   "cell_type": "code",
   "execution_count": 89,
   "metadata": {},
   "outputs": [
    {
     "data": {
      "text/html": [
       "<div>\n",
       "<style scoped>\n",
       "    .dataframe tbody tr th:only-of-type {\n",
       "        vertical-align: middle;\n",
       "    }\n",
       "\n",
       "    .dataframe tbody tr th {\n",
       "        vertical-align: top;\n",
       "    }\n",
       "\n",
       "    .dataframe thead th {\n",
       "        text-align: right;\n",
       "    }\n",
       "</style>\n",
       "<table border=\"1\" class=\"dataframe\">\n",
       "  <thead>\n",
       "    <tr style=\"text-align: right;\">\n",
       "      <th></th>\n",
       "      <th>ID</th>\n",
       "      <th>NEXT_MONTH_DEFAULT</th>\n",
       "    </tr>\n",
       "  </thead>\n",
       "  <tbody>\n",
       "    <tr>\n",
       "      <th>0</th>\n",
       "      <td>0</td>\n",
       "      <td>0</td>\n",
       "    </tr>\n",
       "    <tr>\n",
       "      <th>1</th>\n",
       "      <td>1</td>\n",
       "      <td>1</td>\n",
       "    </tr>\n",
       "    <tr>\n",
       "      <th>2</th>\n",
       "      <td>2</td>\n",
       "      <td>1</td>\n",
       "    </tr>\n",
       "    <tr>\n",
       "      <th>3</th>\n",
       "      <td>3</td>\n",
       "      <td>0</td>\n",
       "    </tr>\n",
       "    <tr>\n",
       "      <th>4</th>\n",
       "      <td>4</td>\n",
       "      <td>1</td>\n",
       "    </tr>\n",
       "    <tr>\n",
       "      <th>...</th>\n",
       "      <td>...</td>\n",
       "      <td>...</td>\n",
       "    </tr>\n",
       "    <tr>\n",
       "      <th>2495</th>\n",
       "      <td>2495</td>\n",
       "      <td>0</td>\n",
       "    </tr>\n",
       "    <tr>\n",
       "      <th>2496</th>\n",
       "      <td>2496</td>\n",
       "      <td>0</td>\n",
       "    </tr>\n",
       "    <tr>\n",
       "      <th>2497</th>\n",
       "      <td>2497</td>\n",
       "      <td>1</td>\n",
       "    </tr>\n",
       "    <tr>\n",
       "      <th>2498</th>\n",
       "      <td>2498</td>\n",
       "      <td>0</td>\n",
       "    </tr>\n",
       "    <tr>\n",
       "      <th>2499</th>\n",
       "      <td>2499</td>\n",
       "      <td>1</td>\n",
       "    </tr>\n",
       "  </tbody>\n",
       "</table>\n",
       "<p>2500 rows × 2 columns</p>\n",
       "</div>"
      ],
      "text/plain": [
       "        ID  NEXT_MONTH_DEFAULT\n",
       "0        0                   0\n",
       "1        1                   1\n",
       "2        2                   1\n",
       "3        3                   0\n",
       "4        4                   1\n",
       "...    ...                 ...\n",
       "2495  2495                   0\n",
       "2496  2496                   0\n",
       "2497  2497                   1\n",
       "2498  2498                   0\n",
       "2499  2499                   1\n",
       "\n",
       "[2500 rows x 2 columns]"
      ]
     },
     "execution_count": 89,
     "metadata": {},
     "output_type": "execute_result"
    }
   ],
   "source": [
    "y_pred"
   ]
  },
  {
   "cell_type": "code",
   "execution_count": 90,
   "metadata": {},
   "outputs": [],
   "source": [
    "#Экспорт результатов\n",
    "import csv\n",
    "filename = 'Dubrovin_predictions.csv'\n",
    "y_pred.to_csv(filename, index=None)"
   ]
  },
  {
   "cell_type": "code",
   "execution_count": null,
   "metadata": {},
   "outputs": [],
   "source": []
  }
 ],
 "metadata": {
  "kernelspec": {
   "display_name": "Python 3",
   "language": "python",
   "name": "python3"
  },
  "language_info": {
   "codemirror_mode": {
    "name": "ipython",
    "version": 3
   },
   "file_extension": ".py",
   "mimetype": "text/x-python",
   "name": "python",
   "nbconvert_exporter": "python",
   "pygments_lexer": "ipython3",
   "version": "3.8.3"
  }
 },
 "nbformat": 4,
 "nbformat_minor": 4
}
